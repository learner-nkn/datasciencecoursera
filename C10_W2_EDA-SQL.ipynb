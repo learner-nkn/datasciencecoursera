{
 "cells": [
  {
   "cell_type": "markdown",
   "id": "13da04cd",
   "metadata": {},
   "source": [
    "# EDA with Pandas and SQL\n",
    "\n"
   ]
  },
  {
   "cell_type": "markdown",
   "id": "6b1553d1",
   "metadata": {},
   "source": [
    "## Introduction\n",
    "\n",
    "Using this Python notebook you will:\n",
    "\n",
    "1.  Understand the Spacex DataSet\n",
    "2.  Load the dataset  into the corresponding table in a Db2 database\n",
    "3.  Execute SQL queries to answer assignment questions\n"
   ]
  },
  {
   "cell_type": "markdown",
   "id": "74082369",
   "metadata": {},
   "source": [
    "## Overview of the DataSet\n",
    "\n",
    "SpaceX has gained worldwide attention for a series of historic milestones.\n",
    "\n",
    "It is the only private company ever to return a spacecraft from low-earth orbit, which it first accomplished in December 2010.\n",
    "SpaceX advertises Falcon 9 rocket launches on its website with a cost of 62 million dollars wheras other providers cost upward of 165 million dollars each, much of the savings is because Space X can reuse the first stage.\n",
    "\n",
    "Therefore if we can determine if the first stage will land, we can determine the cost of a launch.\n",
    "\n",
    "This information can be used if an alternate company wants to bid against SpaceX for a rocket launch.\n",
    "\n",
    "This dataset includes a record for each payload carried during a SpaceX mission into outer space.\n"
   ]
  },
  {
   "cell_type": "markdown",
   "id": "8a0b4792",
   "metadata": {},
   "source": [
    "### Download the datasets\n",
    "\n",
    "This assignment requires you to load the spacex dataset.\n",
    "\n",
    "In many cases the dataset to be analyzed is available as a .CSV (comma separated values) file, perhaps on the internet. Click on the link below to download and save the dataset (.CSV file):\n",
    "\n",
    "<a href=\"https://cf-courses-data.s3.us.cloud-object-storage.appdomain.cloud/IBM-DS0321EN-SkillsNetwork/labs/module_2/data/Spacex.csv?utm_medium=Exinfluencer&utm_source=Exinfluencer&utm_content=000026UJ&utm_term=10006555&utm_id=NA-SkillsNetwork-Channel-SkillsNetworkCoursesIBMDS0321ENSkillsNetwork26802033-2021-01-01\" target=\"_blank\">Spacex DataSet</a>\n"
   ]
  },
  {
   "cell_type": "code",
   "execution_count": 1,
   "id": "6a6804f9",
   "metadata": {},
   "outputs": [],
   "source": [
    "# -*- coding: utf-8 -*-\n",
    "\"\"\"\n",
    "Created on Tue Mar  1 15:35:22 2022\n",
    "\n",
    "@author: nived\n",
    "\"\"\"\n",
    "\n",
    "import pandas as pd\n",
    "import sqlite3\n",
    "import numpy as np\n",
    "import datetime\n",
    "\n",
    "# Read the csv file and find the column names\n",
    "spacex = pd.read_csv(\"Spacex.csv\")\n",
    "spacex_cols = spacex.columns\n",
    "\n",
    "\n"
   ]
  },
  {
   "cell_type": "markdown",
   "id": "af9ffe9f",
   "metadata": {},
   "source": [
    "### Task 1\n",
    "\n",
    "##### Display the names of the unique launch sites  in the space mission\n"
   ]
  },
  {
   "cell_type": "code",
   "execution_count": 2,
   "id": "456dd1b6",
   "metadata": {},
   "outputs": [
    {
     "name": "stdout",
     "output_type": "stream",
     "text": [
      "['CCAFS LC-40', 'CCAFS SLC-40']\n"
     ]
    }
   ],
   "source": [
    "# Question 1: Find the unique launch site names\n",
    "sites = np.unique(spacex[['Launch_Site']])\n",
    "\n",
    "# Find launch site names that start with 'CCA'\n",
    "find_sites = []\n",
    "j = 0\n",
    "for i in range(0,len(sites)):\n",
    "    if(str(sites[i]).startswith('CCA')):\n",
    "        find_sites.append(sites[i])\n",
    "\n",
    "print(find_sites)\n"
   ]
  },
  {
   "cell_type": "code",
   "execution_count": 3,
   "id": "5c81648f",
   "metadata": {},
   "outputs": [],
   "source": [
    "# Connect to sql\n",
    "connection = sqlite3.connect('spacex.sqlite')\n",
    "# spacex.to_sql('spacex',con=connection)\n",
    "cur = connection.cursor()"
   ]
  },
  {
   "cell_type": "markdown",
   "id": "bb235911",
   "metadata": {},
   "source": [
    "### Task 2\n",
    "\n",
    "##### Display 5 records where launch sites begin with the string 'CCA'\n"
   ]
  },
  {
   "cell_type": "code",
   "execution_count": 4,
   "id": "f93f5cbc",
   "metadata": {},
   "outputs": [
    {
     "name": "stdout",
     "output_type": "stream",
     "text": [
      "0\n",
      "1\n",
      "2\n",
      "3\n",
      "4\n",
      "44\n",
      "46\n",
      "47\n",
      "49\n",
      "51\n"
     ]
    },
    {
     "data": {
      "text/html": [
       "<div>\n",
       "<style scoped>\n",
       "    .dataframe tbody tr th:only-of-type {\n",
       "        vertical-align: middle;\n",
       "    }\n",
       "\n",
       "    .dataframe tbody tr th {\n",
       "        vertical-align: top;\n",
       "    }\n",
       "\n",
       "    .dataframe thead th {\n",
       "        text-align: right;\n",
       "    }\n",
       "</style>\n",
       "<table border=\"1\" class=\"dataframe\">\n",
       "  <thead>\n",
       "    <tr style=\"text-align: right;\">\n",
       "      <th></th>\n",
       "      <th>Date</th>\n",
       "      <th>Time (UTC)</th>\n",
       "      <th>Booster_Version</th>\n",
       "      <th>Launch_Site</th>\n",
       "      <th>Payload</th>\n",
       "      <th>PAYLOAD_MASS__KG_</th>\n",
       "      <th>Orbit</th>\n",
       "      <th>Customer</th>\n",
       "      <th>Mission_Outcome</th>\n",
       "      <th>Landing _Outcome</th>\n",
       "    </tr>\n",
       "  </thead>\n",
       "  <tbody>\n",
       "    <tr>\n",
       "      <th>0</th>\n",
       "      <td>04-06-2010</td>\n",
       "      <td>18:45:00</td>\n",
       "      <td>F9 v1.0  B0003</td>\n",
       "      <td>CCAFS LC-40</td>\n",
       "      <td>Dragon Spacecraft Qualification Unit</td>\n",
       "      <td>0.0</td>\n",
       "      <td>LEO</td>\n",
       "      <td>SpaceX</td>\n",
       "      <td>Success</td>\n",
       "      <td>Failure (parachute)</td>\n",
       "    </tr>\n",
       "    <tr>\n",
       "      <th>1</th>\n",
       "      <td>08-12-2010</td>\n",
       "      <td>15:43:00</td>\n",
       "      <td>F9 v1.0  B0004</td>\n",
       "      <td>CCAFS LC-40</td>\n",
       "      <td>Dragon demo flight C1, two CubeSats, barrel of...</td>\n",
       "      <td>0.0</td>\n",
       "      <td>LEO (ISS)</td>\n",
       "      <td>NASA (COTS) NRO</td>\n",
       "      <td>Success</td>\n",
       "      <td>Failure (parachute)</td>\n",
       "    </tr>\n",
       "    <tr>\n",
       "      <th>2</th>\n",
       "      <td>22-05-2012</td>\n",
       "      <td>07:44:00</td>\n",
       "      <td>F9 v1.0  B0005</td>\n",
       "      <td>CCAFS LC-40</td>\n",
       "      <td>Dragon demo flight C2</td>\n",
       "      <td>525.0</td>\n",
       "      <td>LEO (ISS)</td>\n",
       "      <td>NASA (COTS)</td>\n",
       "      <td>Success</td>\n",
       "      <td>No attempt</td>\n",
       "    </tr>\n",
       "    <tr>\n",
       "      <th>3</th>\n",
       "      <td>08-10-2012</td>\n",
       "      <td>00:35:00</td>\n",
       "      <td>F9 v1.0  B0006</td>\n",
       "      <td>CCAFS LC-40</td>\n",
       "      <td>SpaceX CRS-1</td>\n",
       "      <td>500.0</td>\n",
       "      <td>LEO (ISS)</td>\n",
       "      <td>NASA (CRS)</td>\n",
       "      <td>Success</td>\n",
       "      <td>No attempt</td>\n",
       "    </tr>\n",
       "    <tr>\n",
       "      <th>4</th>\n",
       "      <td>01-03-2013</td>\n",
       "      <td>15:10:00</td>\n",
       "      <td>F9 v1.0  B0007</td>\n",
       "      <td>CCAFS LC-40</td>\n",
       "      <td>SpaceX CRS-2</td>\n",
       "      <td>677.0</td>\n",
       "      <td>LEO (ISS)</td>\n",
       "      <td>NASA (CRS)</td>\n",
       "      <td>Success</td>\n",
       "      <td>No attempt</td>\n",
       "    </tr>\n",
       "  </tbody>\n",
       "</table>\n",
       "</div>"
      ],
      "text/plain": [
       "         Date Time (UTC) Booster_Version  Launch_Site  \\\n",
       "0  04-06-2010   18:45:00  F9 v1.0  B0003  CCAFS LC-40   \n",
       "1  08-12-2010   15:43:00  F9 v1.0  B0004  CCAFS LC-40   \n",
       "2  22-05-2012   07:44:00  F9 v1.0  B0005  CCAFS LC-40   \n",
       "3  08-10-2012   00:35:00  F9 v1.0  B0006  CCAFS LC-40   \n",
       "4  01-03-2013   15:10:00  F9 v1.0  B0007  CCAFS LC-40   \n",
       "\n",
       "                                             Payload  PAYLOAD_MASS__KG_  \\\n",
       "0               Dragon Spacecraft Qualification Unit                0.0   \n",
       "1  Dragon demo flight C1, two CubeSats, barrel of...                0.0   \n",
       "2                              Dragon demo flight C2              525.0   \n",
       "3                                       SpaceX CRS-1              500.0   \n",
       "4                                       SpaceX CRS-2              677.0   \n",
       "\n",
       "       Orbit         Customer Mission_Outcome     Landing _Outcome  \n",
       "0        LEO           SpaceX         Success  Failure (parachute)  \n",
       "1  LEO (ISS)  NASA (COTS) NRO         Success  Failure (parachute)  \n",
       "2  LEO (ISS)      NASA (COTS)         Success           No attempt  \n",
       "3  LEO (ISS)       NASA (CRS)         Success           No attempt  \n",
       "4  LEO (ISS)       NASA (CRS)         Success           No attempt  "
      ]
     },
     "execution_count": 4,
     "metadata": {},
     "output_type": "execute_result"
    }
   ],
   "source": [
    "# Filter and find the rows that correspond to launch sites starting with 'CCA'\n",
    "idx = []\n",
    "spacex_filtered = pd.DataFrame()\n",
    "for site in find_sites:\n",
    "    cur.execute('SELECT * FROM spacex WHERE Launch_Site = ? LIMIT 5', [site])\n",
    "    for row in cur:\n",
    "        idx.append(row[0])\n",
    "        print(row[0])\n",
    "        spacex_filtered = spacex_filtered.append(spacex.iloc[row[0]])\n",
    "\n",
    "# Question 2\n",
    "spacex_filtered.head(5)"
   ]
  },
  {
   "cell_type": "markdown",
   "id": "88591c89",
   "metadata": {},
   "source": [
    "### Question 3\n",
    "\n",
    "##### Display the total payload mass carried by boosters launched by NASA (CRS)\n"
   ]
  },
  {
   "cell_type": "code",
   "execution_count": 5,
   "id": "139c9a31",
   "metadata": {},
   "outputs": [
    {
     "name": "stdout",
     "output_type": "stream",
     "text": [
      "['NASA (CCD) ', 'NASA (CCDev)', 'NASA (CCP)', 'NASA (COTS)', 'NASA (COTS) NRO', 'NASA (CRS)', 'NASA (CRS), Kacific 1', 'NASA (CTS)', 'NASA (LSP)', 'NASA (LSP) NOAA CNES', 'NASA / NOAA / ESA / EUMETSAT']\n",
      "45596\n"
     ]
    }
   ],
   "source": [
    "# Question 3\n",
    "customers = np.unique(spacex[['Customer']])\n",
    "find_cust = []\n",
    "j = 0\n",
    "for i in range(0,len(customers)):\n",
    "    if(str(customers[i]).startswith('NASA')):\n",
    "        find_cust.append(customers[i])\n",
    "print(find_cust[:])\n",
    "\n",
    "temp = spacex[spacex['Customer']=='NASA (CRS)']\n",
    "total_payloadmass_NASA_crs = temp[spacex_cols[5]].sum()\n",
    "print(total_payloadmass_NASA_crs)"
   ]
  },
  {
   "cell_type": "code",
   "execution_count": 6,
   "id": "1644df65",
   "metadata": {},
   "outputs": [
    {
     "data": {
      "text/html": [
       "<div>\n",
       "<style scoped>\n",
       "    .dataframe tbody tr th:only-of-type {\n",
       "        vertical-align: middle;\n",
       "    }\n",
       "\n",
       "    .dataframe tbody tr th {\n",
       "        vertical-align: top;\n",
       "    }\n",
       "\n",
       "    .dataframe thead th {\n",
       "        text-align: right;\n",
       "    }\n",
       "</style>\n",
       "<table border=\"1\" class=\"dataframe\">\n",
       "  <thead>\n",
       "    <tr style=\"text-align: right;\">\n",
       "      <th></th>\n",
       "      <th>Date</th>\n",
       "      <th>Time (UTC)</th>\n",
       "      <th>Booster_Version</th>\n",
       "      <th>Launch_Site</th>\n",
       "      <th>Payload</th>\n",
       "      <th>PAYLOAD_MASS__KG_</th>\n",
       "      <th>Orbit</th>\n",
       "      <th>Customer</th>\n",
       "      <th>Mission_Outcome</th>\n",
       "      <th>Landing _Outcome</th>\n",
       "    </tr>\n",
       "  </thead>\n",
       "  <tbody>\n",
       "    <tr>\n",
       "      <th>0</th>\n",
       "      <td>04-06-2010</td>\n",
       "      <td>18:45:00</td>\n",
       "      <td>F9 v1.0  B0003</td>\n",
       "      <td>CCAFS LC-40</td>\n",
       "      <td>Dragon Spacecraft Qualification Unit</td>\n",
       "      <td>0</td>\n",
       "      <td>LEO</td>\n",
       "      <td>SpaceX</td>\n",
       "      <td>Success</td>\n",
       "      <td>Failure (parachute)</td>\n",
       "    </tr>\n",
       "    <tr>\n",
       "      <th>1</th>\n",
       "      <td>08-12-2010</td>\n",
       "      <td>15:43:00</td>\n",
       "      <td>F9 v1.0  B0004</td>\n",
       "      <td>CCAFS LC-40</td>\n",
       "      <td>Dragon demo flight C1, two CubeSats, barrel of...</td>\n",
       "      <td>0</td>\n",
       "      <td>LEO (ISS)</td>\n",
       "      <td>NASA (COTS) NRO</td>\n",
       "      <td>Success</td>\n",
       "      <td>Failure (parachute)</td>\n",
       "    </tr>\n",
       "    <tr>\n",
       "      <th>2</th>\n",
       "      <td>22-05-2012</td>\n",
       "      <td>07:44:00</td>\n",
       "      <td>F9 v1.0  B0005</td>\n",
       "      <td>CCAFS LC-40</td>\n",
       "      <td>Dragon demo flight C2</td>\n",
       "      <td>525</td>\n",
       "      <td>LEO (ISS)</td>\n",
       "      <td>NASA (COTS)</td>\n",
       "      <td>Success</td>\n",
       "      <td>No attempt</td>\n",
       "    </tr>\n",
       "    <tr>\n",
       "      <th>3</th>\n",
       "      <td>08-10-2012</td>\n",
       "      <td>00:35:00</td>\n",
       "      <td>F9 v1.0  B0006</td>\n",
       "      <td>CCAFS LC-40</td>\n",
       "      <td>SpaceX CRS-1</td>\n",
       "      <td>500</td>\n",
       "      <td>LEO (ISS)</td>\n",
       "      <td>NASA (CRS)</td>\n",
       "      <td>Success</td>\n",
       "      <td>No attempt</td>\n",
       "    </tr>\n",
       "    <tr>\n",
       "      <th>4</th>\n",
       "      <td>01-03-2013</td>\n",
       "      <td>15:10:00</td>\n",
       "      <td>F9 v1.0  B0007</td>\n",
       "      <td>CCAFS LC-40</td>\n",
       "      <td>SpaceX CRS-2</td>\n",
       "      <td>677</td>\n",
       "      <td>LEO (ISS)</td>\n",
       "      <td>NASA (CRS)</td>\n",
       "      <td>Success</td>\n",
       "      <td>No attempt</td>\n",
       "    </tr>\n",
       "  </tbody>\n",
       "</table>\n",
       "</div>"
      ],
      "text/plain": [
       "         Date Time (UTC) Booster_Version  Launch_Site  \\\n",
       "0  04-06-2010   18:45:00  F9 v1.0  B0003  CCAFS LC-40   \n",
       "1  08-12-2010   15:43:00  F9 v1.0  B0004  CCAFS LC-40   \n",
       "2  22-05-2012   07:44:00  F9 v1.0  B0005  CCAFS LC-40   \n",
       "3  08-10-2012   00:35:00  F9 v1.0  B0006  CCAFS LC-40   \n",
       "4  01-03-2013   15:10:00  F9 v1.0  B0007  CCAFS LC-40   \n",
       "\n",
       "                                             Payload  PAYLOAD_MASS__KG_  \\\n",
       "0               Dragon Spacecraft Qualification Unit                  0   \n",
       "1  Dragon demo flight C1, two CubeSats, barrel of...                  0   \n",
       "2                              Dragon demo flight C2                525   \n",
       "3                                       SpaceX CRS-1                500   \n",
       "4                                       SpaceX CRS-2                677   \n",
       "\n",
       "       Orbit         Customer Mission_Outcome     Landing _Outcome  \n",
       "0        LEO           SpaceX         Success  Failure (parachute)  \n",
       "1  LEO (ISS)  NASA (COTS) NRO         Success  Failure (parachute)  \n",
       "2  LEO (ISS)      NASA (COTS)         Success           No attempt  \n",
       "3  LEO (ISS)       NASA (CRS)         Success           No attempt  \n",
       "4  LEO (ISS)       NASA (CRS)         Success           No attempt  "
      ]
     },
     "execution_count": 6,
     "metadata": {},
     "output_type": "execute_result"
    }
   ],
   "source": [
    "spacex.head()"
   ]
  },
  {
   "cell_type": "code",
   "execution_count": 92,
   "id": "73c0f940",
   "metadata": {},
   "outputs": [
    {
     "name": "stdout",
     "output_type": "stream",
     "text": [
      "Total Payload:  99980\n",
      "Total Payload for NASA (CRS):  (45596,)\n"
     ]
    }
   ],
   "source": [
    "#Question 3 with SQL\n",
    "\n",
    "total_payload = 0\n",
    "for cust in find_cust:\n",
    "    cur.execute('SELECT sum(PAYLOAD_MASS__KG_) FROM spacex WHERE CUSTOMER = ?', [cust]) \n",
    "    for row in cur:\n",
    "        total_payload = total_payload + row[0]\n",
    "print(\"Total Payload: \", total_payload)\n",
    "\n",
    "cur.execute('SELECT sum(PAYLOAD_MASS__KG_) FROM spacex WHERE CUSTOMER = \"NASA (CRS)\"') \n",
    "for row in cur:\n",
    "    print('Total Payload for NASA (CRS): ', row)"
   ]
  },
  {
   "cell_type": "markdown",
   "id": "11145cbe",
   "metadata": {},
   "source": [
    "### Task 4\n",
    "\n",
    "##### Display average payload mass carried by booster version F9 v1.1\n"
   ]
  },
  {
   "cell_type": "code",
   "execution_count": 8,
   "id": "7f89a764",
   "metadata": {},
   "outputs": [
    {
     "name": "stdout",
     "output_type": "stream",
     "text": [
      "Average Payload for F9 v1.1:  2928.4\n",
      "Average Payload for F9 v1.1:  (2928.4,)\n"
     ]
    }
   ],
   "source": [
    "# Question 4 with Dataframe\n",
    "temp = spacex[spacex[spacex_cols[2]]=='F9 v1.1']\n",
    "avg_payloadmass_F9v1 = temp[spacex_cols[5]].mean()\n",
    "print(\"Average Payload for F9 v1.1: \", avg_payloadmass_F9v1)\n",
    "\n",
    "# With SQL\n",
    "cur.execute('SELECT AVG(PAYLOAD_MASS__KG_) FROM spacex WHERE BOOSTER_VERSION = ?', ['F9 v1.1'])\n",
    "for row in cur:\n",
    "    print(\"Average Payload for F9 v1.1: \", row)"
   ]
  },
  {
   "cell_type": "markdown",
   "id": "cdf907fc",
   "metadata": {},
   "source": [
    "### Task 5\n",
    "\n",
    "##### List the date when the first successful landing outcome in ground pad was achieved.\n",
    "\n",
    "*Hint:Use min function*\n"
   ]
  },
  {
   "cell_type": "code",
   "execution_count": 9,
   "id": "c52feb24",
   "metadata": {},
   "outputs": [
    {
     "name": "stdout",
     "output_type": "stream",
     "text": [
      "Success (ground pad)\n",
      "First successful Ground Landing Date:  01-05-2017\n",
      "First successful Ground Landing Date:  ('01-05-2017',)\n"
     ]
    }
   ],
   "source": [
    "# Question 5\n",
    "success_outcomes = np.unique(spacex[[spacex_cols[9]]])\n",
    "print(success_outcomes[9])\n",
    "temp = spacex[spacex[spacex_cols[9]]==success_outcomes[9]]\n",
    "first_date_success_ground = temp[spacex_cols[0]].min()\n",
    "print(\"First successful Ground Landing Date: \", first_date_success_ground)\n",
    "\n",
    "# With SQL\n",
    "cur.execute('SELECT MIN(Date) FROM spacex WHERE \"Landing _Outcome\" = ?', [success_outcomes[9]])\n",
    "for row in cur:\n",
    "    print(\"First successful Ground Landing Date: \", row)"
   ]
  },
  {
   "cell_type": "markdown",
   "id": "c939d736",
   "metadata": {},
   "source": [
    "### Task 6\n",
    "\n",
    "##### List the names of the boosters which have success in drone ship and have payload mass greater than 4000 but less than 6000\n"
   ]
  },
  {
   "cell_type": "code",
   "execution_count": 18,
   "id": "6f30dcb0",
   "metadata": {},
   "outputs": [
    {
     "name": "stdout",
     "output_type": "stream",
     "text": [
      "23       F9 FT B1022\n",
      "27       F9 FT B1026\n",
      "31    F9 FT  B1021.2\n",
      "42    F9 FT  B1031.2\n",
      "Name: Booster_Version, dtype: object\n",
      "Names of boosters which have success in drone ship with 4000<Payload<6000:  ('F9 FT B1022',)\n",
      "Names of boosters which have success in drone ship with 4000<Payload<6000:  ('F9 FT B1026',)\n",
      "Names of boosters which have success in drone ship with 4000<Payload<6000:  ('F9 FT  B1021.2',)\n",
      "Names of boosters which have success in drone ship with 4000<Payload<6000:  ('F9 FT  B1031.2',)\n"
     ]
    }
   ],
   "source": [
    "# Question 6\n",
    "temp = spacex[(spacex[spacex_cols[9]]==success_outcomes[8]) & (spacex[spacex_cols[5]] > 4000)\n",
    "              & (spacex[spacex_cols[5]] < 6000)]\n",
    "print(temp[spacex_cols[2]])\n",
    "\n",
    "# With SQL\n",
    "cur.execute('''SELECT BOOSTER_VERSION FROM spacex WHERE \"LANDING _OUTCOME\"= ? AND \n",
    "            PAYLOAD_MASS__KG_ > 4000 AND PAYLOAD_MASS__KG_ < 6000''', [success_outcomes[8]])\n",
    "for row in cur:\n",
    "    print(\"Names of boosters which have success in drone ship with 4000<Payload<6000: \", row)"
   ]
  },
  {
   "cell_type": "markdown",
   "id": "4d9170c4",
   "metadata": {},
   "source": [
    "### Task 7\n",
    "\n",
    "##### List the total number of successful and failure mission outcomes\n"
   ]
  },
  {
   "cell_type": "code",
   "execution_count": 24,
   "id": "6742f574",
   "metadata": {},
   "outputs": [
    {
     "name": "stdout",
     "output_type": "stream",
     "text": [
      "Number of successful outcomes is  100\n",
      "Number of failed outcomes is 1\n",
      " \n",
      "Number of successful outcomes is  (100,)\n",
      "Number of failed outcomes is  (1,)\n"
     ]
    }
   ],
   "source": [
    "# Question 7\n",
    "mission_outcomes = np.unique(spacex[[spacex_cols[8]]])\n",
    "temp = spacex[(spacex[spacex_cols[8]]==mission_outcomes[1]) | (spacex[spacex_cols[8]]==mission_outcomes[2])\n",
    "              | (spacex[spacex_cols[8]]==mission_outcomes[3])]\n",
    "successful_outcomes = temp[spacex_cols[8]].size\n",
    "temp = spacex[spacex[spacex_cols[8]]==mission_outcomes[0]]\n",
    "failure_outcomes = temp[spacex_cols[8]].size\n",
    "print('Number of successful outcomes is ', successful_outcomes)\n",
    "print('Number of failed outcomes is', failure_outcomes)\n",
    "\n",
    "print(\" \")\n",
    "# With SQL\n",
    "cur.execute('''SELECT count(MISSION_OUTCOME) FROM spacex WHERE MISSION_OUTCOME = ? OR MISSION_OUTCOME = ? \n",
    "OR MISSION_OUTCOME = ?''', [mission_outcomes[1], mission_outcomes[2] , mission_outcomes[3]])\n",
    "for row in cur:\n",
    "    print('Number of successful outcomes is ', row)\n",
    "\n",
    "cur.execute('''SELECT count(MISSION_OUTCOME) FROM spacex WHERE MISSION_OUTCOME = ?''', \n",
    "            [mission_outcomes[0]])\n",
    "for row in cur:\n",
    "    print('Number of failed outcomes is ', row)"
   ]
  },
  {
   "cell_type": "markdown",
   "id": "b50c43e6",
   "metadata": {},
   "source": [
    "### Task 8\n",
    "\n",
    "##### List the   names of the booster_versions which have carried the maximum payload mass. Use a subquery\n"
   ]
  },
  {
   "cell_type": "code",
   "execution_count": 26,
   "id": "ae35f3b7",
   "metadata": {},
   "outputs": [
    {
     "name": "stdout",
     "output_type": "stream",
     "text": [
      "Booster version with max payload is 74     F9 B5 B1048.4\n",
      "77     F9 B5 B1049.4\n",
      "79     F9 B5 B1051.3\n",
      "80     F9 B5 B1056.4\n",
      "82     F9 B5 B1048.5\n",
      "83     F9 B5 B1051.4\n",
      "85     F9 B5 B1049.5\n",
      "92    F9 B5 B1060.2 \n",
      "93    F9 B5 B1058.3 \n",
      "94     F9 B5 B1051.6\n",
      "95     F9 B5 B1060.3\n",
      "99    F9 B5 B1049.7 \n",
      "Name: Booster_Version, dtype: object\n",
      " \n",
      "Booster version with max payload is ('F9 B5 B1048.4',)\n",
      "Booster version with max payload is ('F9 B5 B1049.4',)\n",
      "Booster version with max payload is ('F9 B5 B1051.3',)\n",
      "Booster version with max payload is ('F9 B5 B1056.4',)\n",
      "Booster version with max payload is ('F9 B5 B1048.5',)\n",
      "Booster version with max payload is ('F9 B5 B1051.4',)\n",
      "Booster version with max payload is ('F9 B5 B1049.5',)\n",
      "Booster version with max payload is ('F9 B5 B1060.2 ',)\n",
      "Booster version with max payload is ('F9 B5 B1058.3 ',)\n",
      "Booster version with max payload is ('F9 B5 B1051.6',)\n",
      "Booster version with max payload is ('F9 B5 B1060.3',)\n",
      "Booster version with max payload is ('F9 B5 B1049.7 ',)\n"
     ]
    }
   ],
   "source": [
    "# Question 8\n",
    "max_payload_mass = spacex[[spacex_cols[5]]].max()[0]\n",
    "temp = spacex[spacex[spacex_cols[5]]==max_payload_mass]\n",
    "boosters_max_payload = temp[spacex_cols[2]]\n",
    "print('Booster version with max payload is', boosters_max_payload)\n",
    "\n",
    "print(\" \")\n",
    "\n",
    "# With SQL\n",
    "cur.execute('SELECT BOOSTER_VERSION FROM spacex WHERE PAYLOAD_MASS__KG_ = (SELECT max(PAYLOAD_MASS__KG_) FROM spacex)')\n",
    "for row in cur:\n",
    "    print('Booster version with max payload is', row)\n"
   ]
  },
  {
   "cell_type": "markdown",
   "id": "fe6535d5",
   "metadata": {},
   "source": [
    "### Task 9\n",
    "\n",
    "##### List the failed landing_outcomes in drone ship, their booster versions, and launch site names for in year 2015\n"
   ]
  },
  {
   "cell_type": "code",
   "execution_count": 45,
   "id": "6c62e295",
   "metadata": {},
   "outputs": [
    {
     "data": {
      "text/html": [
       "<div>\n",
       "<style scoped>\n",
       "    .dataframe tbody tr th:only-of-type {\n",
       "        vertical-align: middle;\n",
       "    }\n",
       "\n",
       "    .dataframe tbody tr th {\n",
       "        vertical-align: top;\n",
       "    }\n",
       "\n",
       "    .dataframe thead th {\n",
       "        text-align: right;\n",
       "    }\n",
       "</style>\n",
       "<table border=\"1\" class=\"dataframe\">\n",
       "  <thead>\n",
       "    <tr style=\"text-align: right;\">\n",
       "      <th></th>\n",
       "      <th>Booster_Version</th>\n",
       "      <th>Launch_Site</th>\n",
       "    </tr>\n",
       "  </thead>\n",
       "  <tbody>\n",
       "    <tr>\n",
       "      <th>13</th>\n",
       "      <td>F9 v1.1 B1012</td>\n",
       "      <td>CCAFS LC-40</td>\n",
       "    </tr>\n",
       "    <tr>\n",
       "      <th>16</th>\n",
       "      <td>F9 v1.1 B1015</td>\n",
       "      <td>CCAFS LC-40</td>\n",
       "    </tr>\n",
       "  </tbody>\n",
       "</table>\n",
       "</div>"
      ],
      "text/plain": [
       "   Booster_Version  Launch_Site\n",
       "13   F9 v1.1 B1012  CCAFS LC-40\n",
       "16   F9 v1.1 B1015  CCAFS LC-40"
      ]
     },
     "execution_count": 45,
     "metadata": {},
     "output_type": "execute_result"
    }
   ],
   "source": [
    "# Question 9\n",
    "temp = spacex\n",
    "temp['Year'] = 0\n",
    "for index in temp.index:\n",
    "    dt = temp.iloc[index,0]\n",
    "    year = dt.split('-')[2]\n",
    "    temp.iloc[index,10] = year\n",
    "\n",
    "temp2 = temp[(temp[spacex_cols[9]]==success_outcomes[2]) & (temp['Year']=='2015')]\n",
    "temp2[[spacex_cols[2],spacex_cols[3]]]\n"
   ]
  },
  {
   "cell_type": "code",
   "execution_count": 56,
   "id": "6ac4e9b8",
   "metadata": {},
   "outputs": [],
   "source": [
    "# With SQL\n",
    "connection = sqlite3.connect('temp.sqlite')\n",
    "#temp.to_sql('temp',con=connection)\n",
    "cur = connection.cursor()"
   ]
  },
  {
   "cell_type": "code",
   "execution_count": 54,
   "id": "163bde73",
   "metadata": {},
   "outputs": [
    {
     "name": "stdout",
     "output_type": "stream",
     "text": [
      "Failed landing outcomes in drone ship with Booster version  F9 v1.1 B1012 and Launch Site  CCAFS LC-40\n",
      "Failed landing outcomes in drone ship with Booster version  F9 v1.1 B1015 and Launch Site  CCAFS LC-40\n"
     ]
    }
   ],
   "source": [
    "cur.execute('''SELECT Booster_Version, Launch_Site FROM temp\n",
    "WHERE \"Landing _Outcome\" = ? AND Year = 2015''', [success_outcomes[2]] )\n",
    "for row in cur:\n",
    "    print('Failed landing outcomes in drone ship with Booster version ', row[0], 'and Launch Site ', row[1])"
   ]
  },
  {
   "cell_type": "markdown",
   "id": "2eaf748c",
   "metadata": {},
   "source": [
    "### Task 10\n",
    "\n",
    "##### Rank the count of landing outcomes (such as Failure (drone ship) or Success (ground pad)) between the date 2010-06-04 and 2017-03-20, in descending order\n"
   ]
  },
  {
   "cell_type": "code",
   "execution_count": 55,
   "id": "7c25d50a",
   "metadata": {},
   "outputs": [
    {
     "data": {
      "text/html": [
       "<div>\n",
       "<style scoped>\n",
       "    .dataframe tbody tr th:only-of-type {\n",
       "        vertical-align: middle;\n",
       "    }\n",
       "\n",
       "    .dataframe tbody tr th {\n",
       "        vertical-align: top;\n",
       "    }\n",
       "\n",
       "    .dataframe thead th {\n",
       "        text-align: right;\n",
       "    }\n",
       "</style>\n",
       "<table border=\"1\" class=\"dataframe\">\n",
       "  <thead>\n",
       "    <tr style=\"text-align: right;\">\n",
       "      <th></th>\n",
       "      <th>Landing _Outcome</th>\n",
       "    </tr>\n",
       "  </thead>\n",
       "  <tbody>\n",
       "    <tr>\n",
       "      <th>0</th>\n",
       "      <td>14.5</td>\n",
       "    </tr>\n",
       "    <tr>\n",
       "      <th>1</th>\n",
       "      <td>14.5</td>\n",
       "    </tr>\n",
       "    <tr>\n",
       "      <th>2</th>\n",
       "      <td>26.0</td>\n",
       "    </tr>\n",
       "    <tr>\n",
       "      <th>3</th>\n",
       "      <td>26.0</td>\n",
       "    </tr>\n",
       "    <tr>\n",
       "      <th>4</th>\n",
       "      <td>26.0</td>\n",
       "    </tr>\n",
       "    <tr>\n",
       "      <th>...</th>\n",
       "      <td>...</td>\n",
       "    </tr>\n",
       "    <tr>\n",
       "      <th>96</th>\n",
       "      <td>57.5</td>\n",
       "    </tr>\n",
       "    <tr>\n",
       "      <th>97</th>\n",
       "      <td>57.5</td>\n",
       "    </tr>\n",
       "    <tr>\n",
       "      <th>98</th>\n",
       "      <td>57.5</td>\n",
       "    </tr>\n",
       "    <tr>\n",
       "      <th>99</th>\n",
       "      <td>57.5</td>\n",
       "    </tr>\n",
       "    <tr>\n",
       "      <th>100</th>\n",
       "      <td>57.5</td>\n",
       "    </tr>\n",
       "  </tbody>\n",
       "</table>\n",
       "<p>101 rows × 1 columns</p>\n",
       "</div>"
      ],
      "text/plain": [
       "     Landing _Outcome\n",
       "0                14.5\n",
       "1                14.5\n",
       "2                26.0\n",
       "3                26.0\n",
       "4                26.0\n",
       "..                ...\n",
       "96               57.5\n",
       "97               57.5\n",
       "98               57.5\n",
       "99               57.5\n",
       "100              57.5\n",
       "\n",
       "[101 rows x 1 columns]"
      ]
     },
     "execution_count": 55,
     "metadata": {},
     "output_type": "execute_result"
    }
   ],
   "source": [
    "# Question 10\n",
    "spacex[[spacex_cols[9]]].rank()"
   ]
  },
  {
   "cell_type": "code",
   "execution_count": null,
   "id": "025366ba",
   "metadata": {},
   "outputs": [],
   "source": []
  }
 ],
 "metadata": {
  "kernelspec": {
   "display_name": "Python 3 (ipykernel)",
   "language": "python",
   "name": "python3"
  },
  "language_info": {
   "codemirror_mode": {
    "name": "ipython",
    "version": 3
   },
   "file_extension": ".py",
   "mimetype": "text/x-python",
   "name": "python",
   "nbconvert_exporter": "python",
   "pygments_lexer": "ipython3",
   "version": "3.9.7"
  }
 },
 "nbformat": 4,
 "nbformat_minor": 5
}
