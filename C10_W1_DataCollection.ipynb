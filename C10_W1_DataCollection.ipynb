{
    "cells": [
        {
            "cell_type": "markdown",
            "metadata": {},
            "source": "<center>\n    <img src=\"https://gitlab.com/ibm/skills-network/courses/placeholder101/-/raw/master/labs/module%201/images/IDSNlogo.png\" width=\"300\" alt=\"cognitiveclass.ai logo\"  />\n</center>\n"
        },
        {
            "cell_type": "markdown",
            "metadata": {},
            "source": "# **SpaceX  Falcon 9 first stage Landing Prediction**\n"
        },
        {
            "cell_type": "markdown",
            "metadata": {},
            "source": "# Lab 1: Collecting the data\n"
        },
        {
            "cell_type": "markdown",
            "metadata": {},
            "source": "Estimated time needed: **45** minutes\n"
        },
        {
            "cell_type": "markdown",
            "metadata": {},
            "source": "In this capstone, we will predict if the Falcon 9 first stage will land successfully. SpaceX advertises Falcon 9 rocket launches on its website with a cost of 62 million dollars; other providers cost upward of 165 million dollars each, much of the savings is because SpaceX can reuse the first stage. Therefore if we can determine if the first stage will land, we can determine the cost of a launch. This information can be used if an alternate company wants to bid against SpaceX for a rocket launch. In this lab, you will collect and make sure the data is in the correct format from an API. The following is an example of a successful and launch.\n"
        },
        {
            "cell_type": "markdown",
            "metadata": {},
            "source": "![](https://cf-courses-data.s3.us.cloud-object-storage.appdomain.cloud/IBMDeveloperSkillsNetwork-DS0701EN-SkillsNetwork/lab_v2/images/landing\\_1.gif)\n"
        },
        {
            "cell_type": "markdown",
            "metadata": {},
            "source": "Several examples of an unsuccessful landing are shown here:\n"
        },
        {
            "cell_type": "markdown",
            "metadata": {},
            "source": "![](https://cf-courses-data.s3.us.cloud-object-storage.appdomain.cloud/IBMDeveloperSkillsNetwork-DS0701EN-SkillsNetwork/lab_v2/images/crash.gif)\n"
        },
        {
            "cell_type": "markdown",
            "metadata": {},
            "source": "Most unsuccessful landings are planned. Space X performs a controlled landing in the oceans.\n"
        },
        {
            "cell_type": "markdown",
            "metadata": {},
            "source": "## Objectives\n"
        },
        {
            "cell_type": "markdown",
            "metadata": {},
            "source": "In this lab, you will make a get request to the SpaceX API. You will also do some basic data wrangling and formating.\n\n*   Request to the SpaceX API\n*   Clean the requested data\n"
        },
        {
            "cell_type": "markdown",
            "metadata": {},
            "source": "***\n"
        },
        {
            "cell_type": "markdown",
            "metadata": {},
            "source": "## Import Libraries and Define Auxiliary Functions\n"
        },
        {
            "cell_type": "markdown",
            "metadata": {},
            "source": "We will import the following libraries into the lab\n"
        },
        {
            "cell_type": "code",
            "execution_count": 1,
            "metadata": {},
            "outputs": [],
            "source": "# Requests allows us to make HTTP requests which we will use to get data from an API\nimport requests\n# Pandas is a software library written for the Python programming language for data manipulation and analysis.\nimport pandas as pd\n# NumPy is a library for the Python programming language, adding support for large, multi-dimensional arrays and matrices, along with a large collection of high-level mathematical functions to operate on these arrays\nimport numpy as np\n# Datetime is a library that allows us to represent dates\nimport datetime\n\n# Setting this option will print all collumns of a dataframe\npd.set_option('display.max_columns', None)\n# Setting this option will print all of the data in a feature\npd.set_option('display.max_colwidth', None)"
        },
        {
            "cell_type": "markdown",
            "metadata": {},
            "source": "Below we will define a series of helper functions that will help us use the API to extract information using identification numbers in the launch data.\n\nFrom the <code>rocket</code> column we would like to learn the booster name.\n"
        },
        {
            "cell_type": "code",
            "execution_count": 2,
            "metadata": {},
            "outputs": [],
            "source": "# Takes the dataset and uses the rocket column to call the API and append the data to the list\ndef getBoosterVersion(data):\n    for x in data['rocket']:\n        response = requests.get(\"https://api.spacexdata.com/v4/rockets/\"+str(x)).json()\n        BoosterVersion.append(response['name'])"
        },
        {
            "cell_type": "markdown",
            "metadata": {},
            "source": "From the <code>launchpad</code> we would like to know the name of the launch site being used, the longitude, and the latitude.\n"
        },
        {
            "cell_type": "code",
            "execution_count": 3,
            "metadata": {},
            "outputs": [],
            "source": "# Takes the dataset and uses the launchpad column to call the API and append the data to the list\ndef getLaunchSite(data):\n    for x in data['launchpad']:\n        response = requests.get(\"https://api.spacexdata.com/v4/launchpads/\"+str(x)).json()\n        Longitude.append(response['longitude'])\n        Latitude.append(response['latitude'])\n        LaunchSite.append(response['name'])"
        },
        {
            "cell_type": "markdown",
            "metadata": {},
            "source": "From the <code>payload</code> we would like to learn the mass of the payload and the orbit that it is going to.\n"
        },
        {
            "cell_type": "code",
            "execution_count": 4,
            "metadata": {},
            "outputs": [],
            "source": "# Takes the dataset and uses the payloads column to call the API and append the data to the lists\ndef getPayloadData(data):\n    for load in data['payloads']:\n        response = requests.get(\"https://api.spacexdata.com/v4/payloads/\"+load).json()\n        PayloadMass.append(response['mass_kg'])\n        Orbit.append(response['orbit'])"
        },
        {
            "cell_type": "markdown",
            "metadata": {},
            "source": "From <code>cores</code> we would like to learn the outcome of the landing, the type of the landing, number of flights with that core, whether gridfins were used, wheter the core is reused, wheter legs were used, the landing pad used, the block of the core which is a number used to seperate version of cores, the number of times this specific core has been reused, and the serial of the core.\n"
        },
        {
            "cell_type": "code",
            "execution_count": 5,
            "metadata": {},
            "outputs": [],
            "source": "# Takes the dataset and uses the cores column to call the API and append the data to the lists\ndef getCoreData(data):\n    for core in data['cores']:\n            if core['core'] != None:\n                response = requests.get(\"https://api.spacexdata.com/v4/cores/\"+core['core']).json()\n                Block.append(response['block'])\n                ReusedCount.append(response['reuse_count'])\n                Serial.append(response['serial'])\n            else:\n                Block.append(None)\n                ReusedCount.append(None)\n                Serial.append(None)\n            Outcome.append(str(core['landing_success'])+' '+str(core['landing_type']))\n            Flights.append(core['flight'])\n            GridFins.append(core['gridfins'])\n            Reused.append(core['reused'])\n            Legs.append(core['legs'])\n            LandingPad.append(core['landpad'])"
        },
        {
            "cell_type": "markdown",
            "metadata": {},
            "source": "Now let's start requesting rocket launch data from SpaceX API with the following URL:\n"
        },
        {
            "cell_type": "code",
            "execution_count": 6,
            "metadata": {},
            "outputs": [],
            "source": "spacex_url=\"https://api.spacexdata.com/v4/launches/past\""
        },
        {
            "cell_type": "code",
            "execution_count": 7,
            "metadata": {},
            "outputs": [],
            "source": "response = requests.get(spacex_url)"
        },
        {
            "cell_type": "markdown",
            "metadata": {},
            "source": "Check the content of the response\n"
        },
        {
            "cell_type": "markdown",
            "metadata": {},
            "source": "You should see the response contains massive information about SpaceX launches. Next, let's try to discover some more relevant information for this project.\n"
        },
        {
            "cell_type": "markdown",
            "metadata": {},
            "source": "### Task 1: Request and parse the SpaceX launch data using the GET request\n"
        },
        {
            "cell_type": "markdown",
            "metadata": {},
            "source": "To make the requested JSON results more consistent, we will use the following static response object for this project:\n"
        },
        {
            "cell_type": "code",
            "execution_count": 9,
            "metadata": {},
            "outputs": [],
            "source": "static_json_url='https://cf-courses-data.s3.us.cloud-object-storage.appdomain.cloud/IBM-DS0321EN-SkillsNetwork/datasets/API_call_spacex_api.json'"
        },
        {
            "cell_type": "markdown",
            "metadata": {},
            "source": "We should see that the request was successfull with the 200 status response code\n"
        },
        {
            "cell_type": "code",
            "execution_count": 10,
            "metadata": {},
            "outputs": [
                {
                    "data": {
                        "text/plain": "200"
                    },
                    "execution_count": 10,
                    "metadata": {},
                    "output_type": "execute_result"
                }
            ],
            "source": "response.status_code"
        },
        {
            "cell_type": "markdown",
            "metadata": {},
            "source": "Now we decode the response content as a Json using <code>.json()</code> and turn it into a Pandas dataframe using <code>.json_normalize()</code>\n"
        },
        {
            "cell_type": "code",
            "execution_count": 11,
            "metadata": {},
            "outputs": [],
            "source": "# Use json_normalize meethod to convert the json result into a dataframe\ndata = pd.json_normalize(response.json())"
        },
        {
            "cell_type": "markdown",
            "metadata": {},
            "source": "Now we decode the response content of the static url as a Json using the static json url and convert it into a Pandas dataframe object"
        },
        {
            "cell_type": "code",
            "execution_count": 12,
            "metadata": {},
            "outputs": [
                {
                    "data": {
                        "text/html": "<div>\n<style scoped>\n    .dataframe tbody tr th:only-of-type {\n        vertical-align: middle;\n    }\n\n    .dataframe tbody tr th {\n        vertical-align: top;\n    }\n\n    .dataframe thead th {\n        text-align: right;\n    }\n</style>\n<table border=\"1\" class=\"dataframe\">\n  <thead>\n    <tr style=\"text-align: right;\">\n      <th></th>\n      <th>static_fire_date_utc</th>\n      <th>static_fire_date_unix</th>\n      <th>tbd</th>\n      <th>net</th>\n      <th>window</th>\n      <th>rocket</th>\n      <th>success</th>\n      <th>details</th>\n      <th>crew</th>\n      <th>ships</th>\n      <th>capsules</th>\n      <th>payloads</th>\n      <th>launchpad</th>\n      <th>auto_update</th>\n      <th>failures</th>\n      <th>flight_number</th>\n      <th>name</th>\n      <th>date_utc</th>\n      <th>date_unix</th>\n      <th>date_local</th>\n      <th>date_precision</th>\n      <th>upcoming</th>\n      <th>cores</th>\n      <th>id</th>\n      <th>fairings.reused</th>\n      <th>fairings.recovery_attempt</th>\n      <th>fairings.recovered</th>\n      <th>fairings.ships</th>\n      <th>links.patch.small</th>\n      <th>links.patch.large</th>\n      <th>links.reddit.campaign</th>\n      <th>links.reddit.launch</th>\n      <th>links.reddit.media</th>\n      <th>links.reddit.recovery</th>\n      <th>links.flickr.small</th>\n      <th>links.flickr.original</th>\n      <th>links.presskit</th>\n      <th>links.webcast</th>\n      <th>links.youtube_id</th>\n      <th>links.article</th>\n      <th>links.wikipedia</th>\n      <th>fairings</th>\n    </tr>\n  </thead>\n  <tbody>\n    <tr>\n      <th>0</th>\n      <td>2006-03-17T00:00:00.000Z</td>\n      <td>1.142554e+09</td>\n      <td>False</td>\n      <td>False</td>\n      <td>0.0</td>\n      <td>5e9d0d95eda69955f709d1eb</td>\n      <td>False</td>\n      <td>Engine failure at 33 seconds and loss of vehicle</td>\n      <td>[]</td>\n      <td>[]</td>\n      <td>[]</td>\n      <td>[5eb0e4b5b6c3bb0006eeb1e1]</td>\n      <td>5e9e4502f5090995de566f86</td>\n      <td>True</td>\n      <td>[{'time': 33, 'altitude': None, 'reason': 'merlin engine failure'}]</td>\n      <td>1</td>\n      <td>FalconSat</td>\n      <td>2006-03-24T22:30:00.000Z</td>\n      <td>1143239400</td>\n      <td>2006-03-25T10:30:00+12:00</td>\n      <td>hour</td>\n      <td>False</td>\n      <td>[{'core': '5e9e289df35918033d3b2623', 'flight': 1, 'gridfins': False, 'legs': False, 'reused': False, 'landing_attempt': False, 'landing_success': None, 'landing_type': None, 'landpad': None}]</td>\n      <td>5eb87cd9ffd86e000604b32a</td>\n      <td>False</td>\n      <td>False</td>\n      <td>False</td>\n      <td>[]</td>\n      <td>https://images2.imgbox.com/3c/0e/T8iJcSN3_o.png</td>\n      <td>https://images2.imgbox.com/40/e3/GypSkayF_o.png</td>\n      <td>None</td>\n      <td>None</td>\n      <td>None</td>\n      <td>None</td>\n      <td>[]</td>\n      <td>[]</td>\n      <td>None</td>\n      <td>https://www.youtube.com/watch?v=0a_00nJ_Y88</td>\n      <td>0a_00nJ_Y88</td>\n      <td>https://www.space.com/2196-spacex-inaugural-falcon-1-rocket-lost-launch.html</td>\n      <td>https://en.wikipedia.org/wiki/DemoSat</td>\n      <td>NaN</td>\n    </tr>\n    <tr>\n      <th>1</th>\n      <td>None</td>\n      <td>NaN</td>\n      <td>False</td>\n      <td>False</td>\n      <td>0.0</td>\n      <td>5e9d0d95eda69955f709d1eb</td>\n      <td>False</td>\n      <td>Successful first stage burn and transition to second stage, maximum altitude 289 km, Premature engine shutdown at T+7 min 30 s, Failed to reach orbit, Failed to recover first stage</td>\n      <td>[]</td>\n      <td>[]</td>\n      <td>[]</td>\n      <td>[5eb0e4b6b6c3bb0006eeb1e2]</td>\n      <td>5e9e4502f5090995de566f86</td>\n      <td>True</td>\n      <td>[{'time': 301, 'altitude': 289, 'reason': 'harmonic oscillation leading to premature engine shutdown'}]</td>\n      <td>2</td>\n      <td>DemoSat</td>\n      <td>2007-03-21T01:10:00.000Z</td>\n      <td>1174439400</td>\n      <td>2007-03-21T13:10:00+12:00</td>\n      <td>hour</td>\n      <td>False</td>\n      <td>[{'core': '5e9e289ef35918416a3b2624', 'flight': 1, 'gridfins': False, 'legs': False, 'reused': False, 'landing_attempt': False, 'landing_success': None, 'landing_type': None, 'landpad': None}]</td>\n      <td>5eb87cdaffd86e000604b32b</td>\n      <td>False</td>\n      <td>False</td>\n      <td>False</td>\n      <td>[]</td>\n      <td>https://images2.imgbox.com/4f/e3/I0lkuJ2e_o.png</td>\n      <td>https://images2.imgbox.com/be/e7/iNqsqVYM_o.png</td>\n      <td>None</td>\n      <td>None</td>\n      <td>None</td>\n      <td>None</td>\n      <td>[]</td>\n      <td>[]</td>\n      <td>None</td>\n      <td>https://www.youtube.com/watch?v=Lk4zQ2wP-Nc</td>\n      <td>Lk4zQ2wP-Nc</td>\n      <td>https://www.space.com/3590-spacex-falcon-1-rocket-fails-reach-orbit.html</td>\n      <td>https://en.wikipedia.org/wiki/DemoSat</td>\n      <td>NaN</td>\n    </tr>\n    <tr>\n      <th>2</th>\n      <td>None</td>\n      <td>NaN</td>\n      <td>False</td>\n      <td>False</td>\n      <td>0.0</td>\n      <td>5e9d0d95eda69955f709d1eb</td>\n      <td>False</td>\n      <td>Residual stage 1 thrust led to collision between stage 1 and stage 2</td>\n      <td>[]</td>\n      <td>[]</td>\n      <td>[]</td>\n      <td>[5eb0e4b6b6c3bb0006eeb1e3, 5eb0e4b6b6c3bb0006eeb1e4]</td>\n      <td>5e9e4502f5090995de566f86</td>\n      <td>True</td>\n      <td>[{'time': 140, 'altitude': 35, 'reason': 'residual stage-1 thrust led to collision between stage 1 and stage 2'}]</td>\n      <td>3</td>\n      <td>Trailblazer</td>\n      <td>2008-08-03T03:34:00.000Z</td>\n      <td>1217734440</td>\n      <td>2008-08-03T15:34:00+12:00</td>\n      <td>hour</td>\n      <td>False</td>\n      <td>[{'core': '5e9e289ef3591814873b2625', 'flight': 1, 'gridfins': False, 'legs': False, 'reused': False, 'landing_attempt': False, 'landing_success': None, 'landing_type': None, 'landpad': None}]</td>\n      <td>5eb87cdbffd86e000604b32c</td>\n      <td>False</td>\n      <td>False</td>\n      <td>False</td>\n      <td>[]</td>\n      <td>https://images2.imgbox.com/3d/86/cnu0pan8_o.png</td>\n      <td>https://images2.imgbox.com/4b/bd/d8UxLh4q_o.png</td>\n      <td>None</td>\n      <td>None</td>\n      <td>None</td>\n      <td>None</td>\n      <td>[]</td>\n      <td>[]</td>\n      <td>None</td>\n      <td>https://www.youtube.com/watch?v=v0w9p3U8860</td>\n      <td>v0w9p3U8860</td>\n      <td>http://www.spacex.com/news/2013/02/11/falcon-1-flight-3-mission-summary</td>\n      <td>https://en.wikipedia.org/wiki/Trailblazer_(satellite)</td>\n      <td>NaN</td>\n    </tr>\n    <tr>\n      <th>3</th>\n      <td>2008-09-20T00:00:00.000Z</td>\n      <td>1.221869e+09</td>\n      <td>False</td>\n      <td>False</td>\n      <td>0.0</td>\n      <td>5e9d0d95eda69955f709d1eb</td>\n      <td>True</td>\n      <td>Ratsat was carried to orbit on the first successful orbital launch of any privately funded and developed, liquid-propelled carrier rocket, the\u00a0SpaceX Falcon 1</td>\n      <td>[]</td>\n      <td>[]</td>\n      <td>[]</td>\n      <td>[5eb0e4b7b6c3bb0006eeb1e5]</td>\n      <td>5e9e4502f5090995de566f86</td>\n      <td>True</td>\n      <td>[]</td>\n      <td>4</td>\n      <td>RatSat</td>\n      <td>2008-09-28T23:15:00.000Z</td>\n      <td>1222643700</td>\n      <td>2008-09-28T11:15:00+12:00</td>\n      <td>hour</td>\n      <td>False</td>\n      <td>[{'core': '5e9e289ef3591855dc3b2626', 'flight': 1, 'gridfins': False, 'legs': False, 'reused': False, 'landing_attempt': False, 'landing_success': None, 'landing_type': None, 'landpad': None}]</td>\n      <td>5eb87cdbffd86e000604b32d</td>\n      <td>False</td>\n      <td>False</td>\n      <td>False</td>\n      <td>[]</td>\n      <td>https://images2.imgbox.com/e9/c9/T8CfiSYb_o.png</td>\n      <td>https://images2.imgbox.com/e0/a7/FNjvKlXW_o.png</td>\n      <td>None</td>\n      <td>None</td>\n      <td>None</td>\n      <td>None</td>\n      <td>[]</td>\n      <td>[]</td>\n      <td>None</td>\n      <td>https://www.youtube.com/watch?v=dLQ2tZEH6G0</td>\n      <td>dLQ2tZEH6G0</td>\n      <td>https://en.wikipedia.org/wiki/Ratsat</td>\n      <td>https://en.wikipedia.org/wiki/Ratsat</td>\n      <td>NaN</td>\n    </tr>\n    <tr>\n      <th>4</th>\n      <td>None</td>\n      <td>NaN</td>\n      <td>False</td>\n      <td>False</td>\n      <td>0.0</td>\n      <td>5e9d0d95eda69955f709d1eb</td>\n      <td>True</td>\n      <td>None</td>\n      <td>[]</td>\n      <td>[]</td>\n      <td>[]</td>\n      <td>[5eb0e4b7b6c3bb0006eeb1e6]</td>\n      <td>5e9e4502f5090995de566f86</td>\n      <td>True</td>\n      <td>[]</td>\n      <td>5</td>\n      <td>RazakSat</td>\n      <td>2009-07-13T03:35:00.000Z</td>\n      <td>1247456100</td>\n      <td>2009-07-13T15:35:00+12:00</td>\n      <td>hour</td>\n      <td>False</td>\n      <td>[{'core': '5e9e289ef359184f103b2627', 'flight': 1, 'gridfins': False, 'legs': False, 'reused': False, 'landing_attempt': False, 'landing_success': None, 'landing_type': None, 'landpad': None}]</td>\n      <td>5eb87cdcffd86e000604b32e</td>\n      <td>False</td>\n      <td>False</td>\n      <td>False</td>\n      <td>[]</td>\n      <td>https://images2.imgbox.com/a7/ba/NBZSw3Ho_o.png</td>\n      <td>https://images2.imgbox.com/8d/fc/0qdZMWWx_o.png</td>\n      <td>None</td>\n      <td>None</td>\n      <td>None</td>\n      <td>None</td>\n      <td>[]</td>\n      <td>[]</td>\n      <td>http://www.spacex.com/press/2012/12/19/spacexs-falcon-1-successfully-delivers-razaksat-satellite-orbit</td>\n      <td>https://www.youtube.com/watch?v=yTaIDooc8Og</td>\n      <td>yTaIDooc8Og</td>\n      <td>http://www.spacex.com/news/2013/02/12/falcon-1-flight-5</td>\n      <td>https://en.wikipedia.org/wiki/RazakSAT</td>\n      <td>NaN</td>\n    </tr>\n    <tr>\n      <th>5</th>\n      <td>2010-03-13T00:00:00.000Z</td>\n      <td>1.268438e+09</td>\n      <td>False</td>\n      <td>False</td>\n      <td>0.0</td>\n      <td>5e9d0d95eda69973a809d1ec</td>\n      <td>True</td>\n      <td>None</td>\n      <td>[]</td>\n      <td>[]</td>\n      <td>[]</td>\n      <td>[5eb0e4b7b6c3bb0006eeb1e7]</td>\n      <td>5e9e4501f509094ba4566f84</td>\n      <td>True</td>\n      <td>[]</td>\n      <td>6</td>\n      <td>Falcon 9 Test Flight</td>\n      <td>2010-06-04T18:45:00.000Z</td>\n      <td>1275677100</td>\n      <td>2010-06-04T14:45:00-04:00</td>\n      <td>hour</td>\n      <td>False</td>\n      <td>[{'core': '5e9e289ef359185f2b3b2628', 'flight': 1, 'gridfins': False, 'legs': False, 'reused': False, 'landing_attempt': False, 'landing_success': None, 'landing_type': None, 'landpad': None}]</td>\n      <td>5eb87cddffd86e000604b32f</td>\n      <td>None</td>\n      <td>None</td>\n      <td>None</td>\n      <td>[]</td>\n      <td>https://images2.imgbox.com/5c/36/gbDKf6Y7_o.png</td>\n      <td>https://images2.imgbox.com/d6/12/yxne8mMD_o.png</td>\n      <td>None</td>\n      <td>None</td>\n      <td>None</td>\n      <td>None</td>\n      <td>[]</td>\n      <td>[]</td>\n      <td>http://forum.nasaspaceflight.com/index.php?action=dlattach;topic=21869.0;attach=230821</td>\n      <td>https://www.youtube.com/watch?v=nxSxgBKlYws</td>\n      <td>nxSxgBKlYws</td>\n      <td>http://www.spacex.com/news/2013/02/12/falcon-9-flight-1</td>\n      <td>https://en.wikipedia.org/wiki/Dragon_Spacecraft_Qualification_Unit</td>\n      <td>NaN</td>\n    </tr>\n    <tr>\n      <th>6</th>\n      <td>2010-12-04T00:00:00.000Z</td>\n      <td>1.291421e+09</td>\n      <td>False</td>\n      <td>False</td>\n      <td>0.0</td>\n      <td>5e9d0d95eda69973a809d1ec</td>\n      <td>True</td>\n      <td>None</td>\n      <td>[]</td>\n      <td>[5ea6ed2d080df4000697c901]</td>\n      <td>[5e9e2c5bf35918ed873b2664]</td>\n      <td>[5eb0e4b9b6c3bb0006eeb1e8, 5eb0e4b9b6c3bb0006eeb1e9]</td>\n      <td>5e9e4501f509094ba4566f84</td>\n      <td>True</td>\n      <td>[]</td>\n      <td>7</td>\n      <td>COTS 1</td>\n      <td>2010-12-08T15:43:00.000Z</td>\n      <td>1291822980</td>\n      <td>2010-12-08T11:43:00-04:00</td>\n      <td>hour</td>\n      <td>False</td>\n      <td>[{'core': '5e9e289ef35918187c3b2629', 'flight': 1, 'gridfins': False, 'legs': False, 'reused': False, 'landing_attempt': False, 'landing_success': None, 'landing_type': None, 'landpad': None}]</td>\n      <td>5eb87cdeffd86e000604b330</td>\n      <td>NaN</td>\n      <td>NaN</td>\n      <td>NaN</td>\n      <td>NaN</td>\n      <td>https://images2.imgbox.com/d9/3e/FfrN88ry_o.png</td>\n      <td>https://images2.imgbox.com/00/2f/FhtEd0nB_o.png</td>\n      <td>None</td>\n      <td>None</td>\n      <td>None</td>\n      <td>None</td>\n      <td>[]</td>\n      <td>[]</td>\n      <td>http://www.spacex.com/files/downloads/cots1-20101206.pdf</td>\n      <td>https://www.youtube.com/watch?v=cdLITgWKe_0</td>\n      <td>cdLITgWKe_0</td>\n      <td>https://en.wikipedia.org/wiki/SpaceX_COTS_Demo_Flight_1</td>\n      <td>https://en.wikipedia.org/wiki/SpaceX_COTS_Demo_Flight_1</td>\n      <td>NaN</td>\n    </tr>\n    <tr>\n      <th>7</th>\n      <td>2012-04-30T00:00:00.000Z</td>\n      <td>1.335744e+09</td>\n      <td>False</td>\n      <td>False</td>\n      <td>0.0</td>\n      <td>5e9d0d95eda69973a809d1ec</td>\n      <td>True</td>\n      <td>Launch was scrubbed on first attempt, second launch attempt was successful</td>\n      <td>[]</td>\n      <td>[5ea6ed2d080df4000697c901]</td>\n      <td>[5e9e2c5bf3591882af3b2665]</td>\n      <td>[5eb0e4bab6c3bb0006eeb1ea]</td>\n      <td>5e9e4501f509094ba4566f84</td>\n      <td>True</td>\n      <td>[]</td>\n      <td>8</td>\n      <td>COTS 2</td>\n      <td>2012-05-22T07:44:00.000Z</td>\n      <td>1335944640</td>\n      <td>2012-05-22T03:44:00-04:00</td>\n      <td>hour</td>\n      <td>False</td>\n      <td>[{'core': '5e9e289ef35918f39c3b262a', 'flight': 1, 'gridfins': False, 'legs': False, 'reused': False, 'landing_attempt': False, 'landing_success': None, 'landing_type': None, 'landpad': None}]</td>\n      <td>5eb87cdfffd86e000604b331</td>\n      <td>NaN</td>\n      <td>NaN</td>\n      <td>NaN</td>\n      <td>NaN</td>\n      <td>https://images2.imgbox.com/fc/7a/r9ITwL12_o.png</td>\n      <td>https://images2.imgbox.com/2b/8e/MYyHbnd2_o.png</td>\n      <td>None</td>\n      <td>None</td>\n      <td>None</td>\n      <td>None</td>\n      <td>[]</td>\n      <td>[]</td>\n      <td>https://www.nasa.gov/pdf/649910main_cots2_presskit_051412.pdf</td>\n      <td>https://www.youtube.com/watch?v=tpQzDbAY7yI</td>\n      <td>tpQzDbAY7yI</td>\n      <td>https://en.wikipedia.org/wiki/Dragon_C2%2B</td>\n      <td>https://en.wikipedia.org/wiki/Dragon_C2%2B</td>\n      <td>NaN</td>\n    </tr>\n    <tr>\n      <th>8</th>\n      <td>2012-09-29T00:00:00.000Z</td>\n      <td>1.348877e+09</td>\n      <td>False</td>\n      <td>False</td>\n      <td>0.0</td>\n      <td>5e9d0d95eda69973a809d1ec</td>\n      <td>True</td>\n      <td>CRS-1 successful, but the secondary payload was inserted into abnormally low orbit and lost due to Falcon 9 boost stage engine failure, ISS visiting vehicle safety rules, and the primary payload owner's contractual right to decline a second ignition of the second stage under some conditions.</td>\n      <td>[]</td>\n      <td>[5ea6ed2d080df4000697c902]</td>\n      <td>[5e9e2c5bf3591835983b2666]</td>\n      <td>[5eb0e4bab6c3bb0006eeb1eb, 5eb0e4bab6c3bb0006eeb1ec]</td>\n      <td>5e9e4501f509094ba4566f84</td>\n      <td>True</td>\n      <td>[]</td>\n      <td>9</td>\n      <td>CRS-1</td>\n      <td>2012-10-08T00:35:00.000Z</td>\n      <td>1349656500</td>\n      <td>2012-10-08T20:35:00-04:00</td>\n      <td>hour</td>\n      <td>False</td>\n      <td>[{'core': '5e9e289ff3591821a73b262b', 'flight': 1, 'gridfins': False, 'legs': False, 'reused': False, 'landing_attempt': False, 'landing_success': None, 'landing_type': None, 'landpad': None}]</td>\n      <td>5eb87ce0ffd86e000604b332</td>\n      <td>NaN</td>\n      <td>NaN</td>\n      <td>NaN</td>\n      <td>NaN</td>\n      <td>https://images2.imgbox.com/0b/33/2eLGEejP_o.png</td>\n      <td>https://images2.imgbox.com/52/09/eNvilptL_o.png</td>\n      <td>None</td>\n      <td>None</td>\n      <td>None</td>\n      <td>None</td>\n      <td>[]</td>\n      <td>[]</td>\n      <td>https://www.nasa.gov/pdf/694166main_SpaceXCRS-1PressKit.pdf</td>\n      <td>https://www.youtube.com/watch?v=-Vk3hiV_zXU</td>\n      <td>-Vk3hiV_zXU</td>\n      <td>https://www.nasa.gov/mission_pages/station/main/spacex-crs1-target.html</td>\n      <td>https://en.wikipedia.org/wiki/SpaceX_CRS-1</td>\n      <td>NaN</td>\n    </tr>\n    <tr>\n      <th>9</th>\n      <td>2013-02-25T18:30:00.000Z</td>\n      <td>1.361817e+09</td>\n      <td>False</td>\n      <td>False</td>\n      <td>0.0</td>\n      <td>5e9d0d95eda69973a809d1ec</td>\n      <td>True</td>\n      <td>Last launch of the original Falcon 9 v1.0 launch vehicle</td>\n      <td>[]</td>\n      <td>[5ea6ed2d080df4000697c902]</td>\n      <td>[5e9e2c5bf359189ef23b2667]</td>\n      <td>[5eb0e4bbb6c3bb0006eeb1ed]</td>\n      <td>5e9e4501f509094ba4566f84</td>\n      <td>True</td>\n      <td>[]</td>\n      <td>10</td>\n      <td>CRS-2</td>\n      <td>2013-03-01T19:10:00.000Z</td>\n      <td>1362165000</td>\n      <td>2013-03-01T15:10:00-04:00</td>\n      <td>hour</td>\n      <td>False</td>\n      <td>[{'core': '5e9e289ff3591884e03b262c', 'flight': 1, 'gridfins': False, 'legs': False, 'reused': False, 'landing_attempt': False, 'landing_success': None, 'landing_type': None, 'landpad': None}]</td>\n      <td>5eb87ce1ffd86e000604b333</td>\n      <td>NaN</td>\n      <td>NaN</td>\n      <td>NaN</td>\n      <td>NaN</td>\n      <td>https://images2.imgbox.com/1b/b6/Z4oktZeR_o.png</td>\n      <td>https://images2.imgbox.com/ef/39/FyZRYeOh_o.png</td>\n      <td>None</td>\n      <td>https://www.reddit.com/r/space/comments/19gm5f/live_coverage_spacex_crs2_launch_to_the_iss/c8nvah4</td>\n      <td>None</td>\n      <td>None</td>\n      <td>[]</td>\n      <td>[]</td>\n      <td>https://www.nasa.gov/sites/default/files/files/Orb2_PRESS_KIT.pdf</td>\n      <td>https://www.youtube.com/watch?v=ik0ElKl5kW4</td>\n      <td>ik0ElKl5kW4</td>\n      <td>https://en.wikipedia.org/wiki/SpaceX_CRS-2</td>\n      <td>https://en.wikipedia.org/wiki/SpaceX_CRS-2</td>\n      <td>NaN</td>\n    </tr>\n    <tr>\n      <th>10</th>\n      <td>2013-09-19T00:00:00.000Z</td>\n      <td>1.379549e+09</td>\n      <td>False</td>\n      <td>False</td>\n      <td>0.0</td>\n      <td>5e9d0d95eda69973a809d1ec</td>\n      <td>True</td>\n      <td>Commercial mission and first Falcon 9 v1.1 flight, with improved 13-tonne to LEO capacity. Following second-stage separation from the first stage, an attempt was made to perform an ocean touchdown test of the discarded booster vehicle. The test provided good test data on the experiment-its primary objective-but as the booster neared the ocean, aerodynamic forces caused an uncontrollable roll. The center engine, depleted of fuel by centrifugal force, shut down resulting in the impact and destruction of the vehicle.</td>\n      <td>[]</td>\n      <td>[5ea6ed2d080df4000697c903]</td>\n      <td>[]</td>\n      <td>[5eb0e4bbb6c3bb0006eeb1ee]</td>\n      <td>5e9e4502f509092b78566f87</td>\n      <td>True</td>\n      <td>[]</td>\n      <td>11</td>\n      <td>CASSIOPE</td>\n      <td>2013-09-29T16:00:00.000Z</td>\n      <td>1380470400</td>\n      <td>2013-09-29T09:00:00-07:00</td>\n      <td>hour</td>\n      <td>False</td>\n      <td>[{'core': '5e9e289ff359180ae23b262d', 'flight': 1, 'gridfins': False, 'legs': False, 'reused': False, 'landing_attempt': True, 'landing_success': False, 'landing_type': 'Ocean', 'landpad': None}]</td>\n      <td>5eb87ce1ffd86e000604b334</td>\n      <td>False</td>\n      <td>False</td>\n      <td>False</td>\n      <td>[]</td>\n      <td>https://images2.imgbox.com/91/27/VhC1TTYN_o.png</td>\n      <td>https://images2.imgbox.com/89/bc/JcbcvuBI_o.png</td>\n      <td>None</td>\n      <td>http://www.reddit.com/r/spacex/comments/1ndlay</td>\n      <td>None</td>\n      <td>None</td>\n      <td>[]</td>\n      <td>[]</td>\n      <td>https://spaceflightnow.com/falcon9/006/UpgradedF9DemoMission_PressKit.pdf</td>\n      <td>https://www.youtube.com/watch?v=uFefasS6bhc</td>\n      <td>uFefasS6bhc</td>\n      <td>http://www.parabolicarc.com/2013/09/29/falcon-9-launch-payloads-orbit-vandenberg/</td>\n      <td>https://en.wikipedia.org/wiki/CASSIOPE</td>\n      <td>NaN</td>\n    </tr>\n    <tr>\n      <th>11</th>\n      <td>2013-11-22T06:26:00.000Z</td>\n      <td>1.385102e+09</td>\n      <td>False</td>\n      <td>False</td>\n      <td>0.0</td>\n      <td>5e9d0d95eda69973a809d1ec</td>\n      <td>True</td>\n      <td>First GTO launch for Falcon 9</td>\n      <td>[]</td>\n      <td>[]</td>\n      <td>[]</td>\n      <td>[5eb0e4bbb6c3bb0006eeb1ef]</td>\n      <td>5e9e4501f509094ba4566f84</td>\n      <td>True</td>\n      <td>[]</td>\n      <td>12</td>\n      <td>SES-8</td>\n      <td>2013-12-03T22:41:00.000Z</td>\n      <td>1386110460</td>\n      <td>2013-12-03T18:41:00-04:00</td>\n      <td>hour</td>\n      <td>False</td>\n      <td>[{'core': '5e9e289ff35918862c3b262e', 'flight': 1, 'gridfins': False, 'legs': False, 'reused': False, 'landing_attempt': False, 'landing_success': None, 'landing_type': None, 'landpad': None}]</td>\n      <td>5eb87ce2ffd86e000604b335</td>\n      <td>False</td>\n      <td>False</td>\n      <td>False</td>\n      <td>[]</td>\n      <td>https://images2.imgbox.com/42/b0/vP0sk3d5_o.png</td>\n      <td>https://images2.imgbox.com/b5/1d/46Eo0yuu_o.png</td>\n      <td>None</td>\n      <td>http://www.reddit.com/r/spacex/comments/1ryy1n</td>\n      <td>None</td>\n      <td>None</td>\n      <td>[]</td>\n      <td>[]</td>\n      <td>http://www.spacex.com/sites/spacex/files/spacex_ses-8launch_presskit.pdf</td>\n      <td>https://www.youtube.com/watch?v=aAj5xapImEs</td>\n      <td>aAj5xapImEs</td>\n      <td>https://www.nasaspaceflight.com/2013/12/spacex-falcon-9-v1-1-milestone-ses-8-launch/</td>\n      <td>https://en.wikipedia.org/wiki/SES-8</td>\n      <td>NaN</td>\n    </tr>\n  </tbody>\n</table>\n</div>",
                        "text/plain": "        static_fire_date_utc  static_fire_date_unix    tbd    net  window  \\\n0   2006-03-17T00:00:00.000Z           1.142554e+09  False  False     0.0   \n1                       None                    NaN  False  False     0.0   \n2                       None                    NaN  False  False     0.0   \n3   2008-09-20T00:00:00.000Z           1.221869e+09  False  False     0.0   \n4                       None                    NaN  False  False     0.0   \n5   2010-03-13T00:00:00.000Z           1.268438e+09  False  False     0.0   \n6   2010-12-04T00:00:00.000Z           1.291421e+09  False  False     0.0   \n7   2012-04-30T00:00:00.000Z           1.335744e+09  False  False     0.0   \n8   2012-09-29T00:00:00.000Z           1.348877e+09  False  False     0.0   \n9   2013-02-25T18:30:00.000Z           1.361817e+09  False  False     0.0   \n10  2013-09-19T00:00:00.000Z           1.379549e+09  False  False     0.0   \n11  2013-11-22T06:26:00.000Z           1.385102e+09  False  False     0.0   \n\n                      rocket  success  \\\n0   5e9d0d95eda69955f709d1eb    False   \n1   5e9d0d95eda69955f709d1eb    False   \n2   5e9d0d95eda69955f709d1eb    False   \n3   5e9d0d95eda69955f709d1eb     True   \n4   5e9d0d95eda69955f709d1eb     True   \n5   5e9d0d95eda69973a809d1ec     True   \n6   5e9d0d95eda69973a809d1ec     True   \n7   5e9d0d95eda69973a809d1ec     True   \n8   5e9d0d95eda69973a809d1ec     True   \n9   5e9d0d95eda69973a809d1ec     True   \n10  5e9d0d95eda69973a809d1ec     True   \n11  5e9d0d95eda69973a809d1ec     True   \n\n                                                                                                                                                                                                                                                                                                                                                                                                                                                                                                                                    details  \\\n0                                                                                                                                                                                                                                                                                                                                                                                                                                                                                          Engine failure at 33 seconds and loss of vehicle   \n1                                                                                                                                                                                                                                                                                                                                                      Successful first stage burn and transition to second stage, maximum altitude 289 km, Premature engine shutdown at T+7 min 30 s, Failed to reach orbit, Failed to recover first stage   \n2                                                                                                                                                                                                                                                                                                                                                                                                                                                                      Residual stage 1 thrust led to collision between stage 1 and stage 2   \n3                                                                                                                                                                                                                                                                                                                                                                            Ratsat was carried to orbit on the first successful orbital launch of any privately funded and developed, liquid-propelled carrier rocket, the\u00a0SpaceX Falcon 1   \n4                                                                                                                                                                                                                                                                                                                                                                                                                                                                                                                                      None   \n5                                                                                                                                                                                                                                                                                                                                                                                                                                                                                                                                      None   \n6                                                                                                                                                                                                                                                                                                                                                                                                                                                                                                                                      None   \n7                                                                                                                                                                                                                                                                                                                                                                                                                                                                Launch was scrubbed on first attempt, second launch attempt was successful   \n8                                                                                                                                                                                                                                      CRS-1 successful, but the secondary payload was inserted into abnormally low orbit and lost due to Falcon 9 boost stage engine failure, ISS visiting vehicle safety rules, and the primary payload owner's contractual right to decline a second ignition of the second stage under some conditions.   \n9                                                                                                                                                                                                                                                                                                                                                                                                                                                                                  Last launch of the original Falcon 9 v1.0 launch vehicle   \n10  Commercial mission and first Falcon 9 v1.1 flight, with improved 13-tonne to LEO capacity. Following second-stage separation from the first stage, an attempt was made to perform an ocean touchdown test of the discarded booster vehicle. The test provided good test data on the experiment-its primary objective-but as the booster neared the ocean, aerodynamic forces caused an uncontrollable roll. The center engine, depleted of fuel by centrifugal force, shut down resulting in the impact and destruction of the vehicle.   \n11                                                                                                                                                                                                                                                                                                                                                                                                                                                                                                            First GTO launch for Falcon 9   \n\n   crew                       ships                    capsules  \\\n0    []                          []                          []   \n1    []                          []                          []   \n2    []                          []                          []   \n3    []                          []                          []   \n4    []                          []                          []   \n5    []                          []                          []   \n6    []  [5ea6ed2d080df4000697c901]  [5e9e2c5bf35918ed873b2664]   \n7    []  [5ea6ed2d080df4000697c901]  [5e9e2c5bf3591882af3b2665]   \n8    []  [5ea6ed2d080df4000697c902]  [5e9e2c5bf3591835983b2666]   \n9    []  [5ea6ed2d080df4000697c902]  [5e9e2c5bf359189ef23b2667]   \n10   []  [5ea6ed2d080df4000697c903]                          []   \n11   []                          []                          []   \n\n                                                payloads  \\\n0                             [5eb0e4b5b6c3bb0006eeb1e1]   \n1                             [5eb0e4b6b6c3bb0006eeb1e2]   \n2   [5eb0e4b6b6c3bb0006eeb1e3, 5eb0e4b6b6c3bb0006eeb1e4]   \n3                             [5eb0e4b7b6c3bb0006eeb1e5]   \n4                             [5eb0e4b7b6c3bb0006eeb1e6]   \n5                             [5eb0e4b7b6c3bb0006eeb1e7]   \n6   [5eb0e4b9b6c3bb0006eeb1e8, 5eb0e4b9b6c3bb0006eeb1e9]   \n7                             [5eb0e4bab6c3bb0006eeb1ea]   \n8   [5eb0e4bab6c3bb0006eeb1eb, 5eb0e4bab6c3bb0006eeb1ec]   \n9                             [5eb0e4bbb6c3bb0006eeb1ed]   \n10                            [5eb0e4bbb6c3bb0006eeb1ee]   \n11                            [5eb0e4bbb6c3bb0006eeb1ef]   \n\n                   launchpad  auto_update  \\\n0   5e9e4502f5090995de566f86         True   \n1   5e9e4502f5090995de566f86         True   \n2   5e9e4502f5090995de566f86         True   \n3   5e9e4502f5090995de566f86         True   \n4   5e9e4502f5090995de566f86         True   \n5   5e9e4501f509094ba4566f84         True   \n6   5e9e4501f509094ba4566f84         True   \n7   5e9e4501f509094ba4566f84         True   \n8   5e9e4501f509094ba4566f84         True   \n9   5e9e4501f509094ba4566f84         True   \n10  5e9e4502f509092b78566f87         True   \n11  5e9e4501f509094ba4566f84         True   \n\n                                                                                                             failures  \\\n0                                                 [{'time': 33, 'altitude': None, 'reason': 'merlin engine failure'}]   \n1             [{'time': 301, 'altitude': 289, 'reason': 'harmonic oscillation leading to premature engine shutdown'}]   \n2   [{'time': 140, 'altitude': 35, 'reason': 'residual stage-1 thrust led to collision between stage 1 and stage 2'}]   \n3                                                                                                                  []   \n4                                                                                                                  []   \n5                                                                                                                  []   \n6                                                                                                                  []   \n7                                                                                                                  []   \n8                                                                                                                  []   \n9                                                                                                                  []   \n10                                                                                                                 []   \n11                                                                                                                 []   \n\n    flight_number                  name                  date_utc   date_unix  \\\n0               1             FalconSat  2006-03-24T22:30:00.000Z  1143239400   \n1               2               DemoSat  2007-03-21T01:10:00.000Z  1174439400   \n2               3           Trailblazer  2008-08-03T03:34:00.000Z  1217734440   \n3               4                RatSat  2008-09-28T23:15:00.000Z  1222643700   \n4               5              RazakSat  2009-07-13T03:35:00.000Z  1247456100   \n5               6  Falcon 9 Test Flight  2010-06-04T18:45:00.000Z  1275677100   \n6               7                COTS 1  2010-12-08T15:43:00.000Z  1291822980   \n7               8                COTS 2  2012-05-22T07:44:00.000Z  1335944640   \n8               9                 CRS-1  2012-10-08T00:35:00.000Z  1349656500   \n9              10                 CRS-2  2013-03-01T19:10:00.000Z  1362165000   \n10             11              CASSIOPE  2013-09-29T16:00:00.000Z  1380470400   \n11             12                 SES-8  2013-12-03T22:41:00.000Z  1386110460   \n\n                   date_local date_precision  upcoming  \\\n0   2006-03-25T10:30:00+12:00           hour     False   \n1   2007-03-21T13:10:00+12:00           hour     False   \n2   2008-08-03T15:34:00+12:00           hour     False   \n3   2008-09-28T11:15:00+12:00           hour     False   \n4   2009-07-13T15:35:00+12:00           hour     False   \n5   2010-06-04T14:45:00-04:00           hour     False   \n6   2010-12-08T11:43:00-04:00           hour     False   \n7   2012-05-22T03:44:00-04:00           hour     False   \n8   2012-10-08T20:35:00-04:00           hour     False   \n9   2013-03-01T15:10:00-04:00           hour     False   \n10  2013-09-29T09:00:00-07:00           hour     False   \n11  2013-12-03T18:41:00-04:00           hour     False   \n\n                                                                                                                                                                                                  cores  \\\n0      [{'core': '5e9e289df35918033d3b2623', 'flight': 1, 'gridfins': False, 'legs': False, 'reused': False, 'landing_attempt': False, 'landing_success': None, 'landing_type': None, 'landpad': None}]   \n1      [{'core': '5e9e289ef35918416a3b2624', 'flight': 1, 'gridfins': False, 'legs': False, 'reused': False, 'landing_attempt': False, 'landing_success': None, 'landing_type': None, 'landpad': None}]   \n2      [{'core': '5e9e289ef3591814873b2625', 'flight': 1, 'gridfins': False, 'legs': False, 'reused': False, 'landing_attempt': False, 'landing_success': None, 'landing_type': None, 'landpad': None}]   \n3      [{'core': '5e9e289ef3591855dc3b2626', 'flight': 1, 'gridfins': False, 'legs': False, 'reused': False, 'landing_attempt': False, 'landing_success': None, 'landing_type': None, 'landpad': None}]   \n4      [{'core': '5e9e289ef359184f103b2627', 'flight': 1, 'gridfins': False, 'legs': False, 'reused': False, 'landing_attempt': False, 'landing_success': None, 'landing_type': None, 'landpad': None}]   \n5      [{'core': '5e9e289ef359185f2b3b2628', 'flight': 1, 'gridfins': False, 'legs': False, 'reused': False, 'landing_attempt': False, 'landing_success': None, 'landing_type': None, 'landpad': None}]   \n6      [{'core': '5e9e289ef35918187c3b2629', 'flight': 1, 'gridfins': False, 'legs': False, 'reused': False, 'landing_attempt': False, 'landing_success': None, 'landing_type': None, 'landpad': None}]   \n7      [{'core': '5e9e289ef35918f39c3b262a', 'flight': 1, 'gridfins': False, 'legs': False, 'reused': False, 'landing_attempt': False, 'landing_success': None, 'landing_type': None, 'landpad': None}]   \n8      [{'core': '5e9e289ff3591821a73b262b', 'flight': 1, 'gridfins': False, 'legs': False, 'reused': False, 'landing_attempt': False, 'landing_success': None, 'landing_type': None, 'landpad': None}]   \n9      [{'core': '5e9e289ff3591884e03b262c', 'flight': 1, 'gridfins': False, 'legs': False, 'reused': False, 'landing_attempt': False, 'landing_success': None, 'landing_type': None, 'landpad': None}]   \n10  [{'core': '5e9e289ff359180ae23b262d', 'flight': 1, 'gridfins': False, 'legs': False, 'reused': False, 'landing_attempt': True, 'landing_success': False, 'landing_type': 'Ocean', 'landpad': None}]   \n11     [{'core': '5e9e289ff35918862c3b262e', 'flight': 1, 'gridfins': False, 'legs': False, 'reused': False, 'landing_attempt': False, 'landing_success': None, 'landing_type': None, 'landpad': None}]   \n\n                          id fairings.reused fairings.recovery_attempt  \\\n0   5eb87cd9ffd86e000604b32a           False                     False   \n1   5eb87cdaffd86e000604b32b           False                     False   \n2   5eb87cdbffd86e000604b32c           False                     False   \n3   5eb87cdbffd86e000604b32d           False                     False   \n4   5eb87cdcffd86e000604b32e           False                     False   \n5   5eb87cddffd86e000604b32f            None                      None   \n6   5eb87cdeffd86e000604b330             NaN                       NaN   \n7   5eb87cdfffd86e000604b331             NaN                       NaN   \n8   5eb87ce0ffd86e000604b332             NaN                       NaN   \n9   5eb87ce1ffd86e000604b333             NaN                       NaN   \n10  5eb87ce1ffd86e000604b334           False                     False   \n11  5eb87ce2ffd86e000604b335           False                     False   \n\n   fairings.recovered fairings.ships  \\\n0               False             []   \n1               False             []   \n2               False             []   \n3               False             []   \n4               False             []   \n5                None             []   \n6                 NaN            NaN   \n7                 NaN            NaN   \n8                 NaN            NaN   \n9                 NaN            NaN   \n10              False             []   \n11              False             []   \n\n                                  links.patch.small  \\\n0   https://images2.imgbox.com/3c/0e/T8iJcSN3_o.png   \n1   https://images2.imgbox.com/4f/e3/I0lkuJ2e_o.png   \n2   https://images2.imgbox.com/3d/86/cnu0pan8_o.png   \n3   https://images2.imgbox.com/e9/c9/T8CfiSYb_o.png   \n4   https://images2.imgbox.com/a7/ba/NBZSw3Ho_o.png   \n5   https://images2.imgbox.com/5c/36/gbDKf6Y7_o.png   \n6   https://images2.imgbox.com/d9/3e/FfrN88ry_o.png   \n7   https://images2.imgbox.com/fc/7a/r9ITwL12_o.png   \n8   https://images2.imgbox.com/0b/33/2eLGEejP_o.png   \n9   https://images2.imgbox.com/1b/b6/Z4oktZeR_o.png   \n10  https://images2.imgbox.com/91/27/VhC1TTYN_o.png   \n11  https://images2.imgbox.com/42/b0/vP0sk3d5_o.png   \n\n                                  links.patch.large links.reddit.campaign  \\\n0   https://images2.imgbox.com/40/e3/GypSkayF_o.png                  None   \n1   https://images2.imgbox.com/be/e7/iNqsqVYM_o.png                  None   \n2   https://images2.imgbox.com/4b/bd/d8UxLh4q_o.png                  None   \n3   https://images2.imgbox.com/e0/a7/FNjvKlXW_o.png                  None   \n4   https://images2.imgbox.com/8d/fc/0qdZMWWx_o.png                  None   \n5   https://images2.imgbox.com/d6/12/yxne8mMD_o.png                  None   \n6   https://images2.imgbox.com/00/2f/FhtEd0nB_o.png                  None   \n7   https://images2.imgbox.com/2b/8e/MYyHbnd2_o.png                  None   \n8   https://images2.imgbox.com/52/09/eNvilptL_o.png                  None   \n9   https://images2.imgbox.com/ef/39/FyZRYeOh_o.png                  None   \n10  https://images2.imgbox.com/89/bc/JcbcvuBI_o.png                  None   \n11  https://images2.imgbox.com/b5/1d/46Eo0yuu_o.png                  None   \n\n                                                                                   links.reddit.launch  \\\n0                                                                                                 None   \n1                                                                                                 None   \n2                                                                                                 None   \n3                                                                                                 None   \n4                                                                                                 None   \n5                                                                                                 None   \n6                                                                                                 None   \n7                                                                                                 None   \n8                                                                                                 None   \n9   https://www.reddit.com/r/space/comments/19gm5f/live_coverage_spacex_crs2_launch_to_the_iss/c8nvah4   \n10                                                      http://www.reddit.com/r/spacex/comments/1ndlay   \n11                                                      http://www.reddit.com/r/spacex/comments/1ryy1n   \n\n   links.reddit.media links.reddit.recovery links.flickr.small  \\\n0                None                  None                 []   \n1                None                  None                 []   \n2                None                  None                 []   \n3                None                  None                 []   \n4                None                  None                 []   \n5                None                  None                 []   \n6                None                  None                 []   \n7                None                  None                 []   \n8                None                  None                 []   \n9                None                  None                 []   \n10               None                  None                 []   \n11               None                  None                 []   \n\n   links.flickr.original  \\\n0                     []   \n1                     []   \n2                     []   \n3                     []   \n4                     []   \n5                     []   \n6                     []   \n7                     []   \n8                     []   \n9                     []   \n10                    []   \n11                    []   \n\n                                                                                            links.presskit  \\\n0                                                                                                     None   \n1                                                                                                     None   \n2                                                                                                     None   \n3                                                                                                     None   \n4   http://www.spacex.com/press/2012/12/19/spacexs-falcon-1-successfully-delivers-razaksat-satellite-orbit   \n5                   http://forum.nasaspaceflight.com/index.php?action=dlattach;topic=21869.0;attach=230821   \n6                                                 http://www.spacex.com/files/downloads/cots1-20101206.pdf   \n7                                            https://www.nasa.gov/pdf/649910main_cots2_presskit_051412.pdf   \n8                                              https://www.nasa.gov/pdf/694166main_SpaceXCRS-1PressKit.pdf   \n9                                        https://www.nasa.gov/sites/default/files/files/Orb2_PRESS_KIT.pdf   \n10                               https://spaceflightnow.com/falcon9/006/UpgradedF9DemoMission_PressKit.pdf   \n11                                http://www.spacex.com/sites/spacex/files/spacex_ses-8launch_presskit.pdf   \n\n                                  links.webcast links.youtube_id  \\\n0   https://www.youtube.com/watch?v=0a_00nJ_Y88      0a_00nJ_Y88   \n1   https://www.youtube.com/watch?v=Lk4zQ2wP-Nc      Lk4zQ2wP-Nc   \n2   https://www.youtube.com/watch?v=v0w9p3U8860      v0w9p3U8860   \n3   https://www.youtube.com/watch?v=dLQ2tZEH6G0      dLQ2tZEH6G0   \n4   https://www.youtube.com/watch?v=yTaIDooc8Og      yTaIDooc8Og   \n5   https://www.youtube.com/watch?v=nxSxgBKlYws      nxSxgBKlYws   \n6   https://www.youtube.com/watch?v=cdLITgWKe_0      cdLITgWKe_0   \n7   https://www.youtube.com/watch?v=tpQzDbAY7yI      tpQzDbAY7yI   \n8   https://www.youtube.com/watch?v=-Vk3hiV_zXU      -Vk3hiV_zXU   \n9   https://www.youtube.com/watch?v=ik0ElKl5kW4      ik0ElKl5kW4   \n10  https://www.youtube.com/watch?v=uFefasS6bhc      uFefasS6bhc   \n11  https://www.youtube.com/watch?v=aAj5xapImEs      aAj5xapImEs   \n\n                                                                           links.article  \\\n0           https://www.space.com/2196-spacex-inaugural-falcon-1-rocket-lost-launch.html   \n1               https://www.space.com/3590-spacex-falcon-1-rocket-fails-reach-orbit.html   \n2                http://www.spacex.com/news/2013/02/11/falcon-1-flight-3-mission-summary   \n3                                                   https://en.wikipedia.org/wiki/Ratsat   \n4                                http://www.spacex.com/news/2013/02/12/falcon-1-flight-5   \n5                                http://www.spacex.com/news/2013/02/12/falcon-9-flight-1   \n6                                https://en.wikipedia.org/wiki/SpaceX_COTS_Demo_Flight_1   \n7                                             https://en.wikipedia.org/wiki/Dragon_C2%2B   \n8                https://www.nasa.gov/mission_pages/station/main/spacex-crs1-target.html   \n9                                             https://en.wikipedia.org/wiki/SpaceX_CRS-2   \n10     http://www.parabolicarc.com/2013/09/29/falcon-9-launch-payloads-orbit-vandenberg/   \n11  https://www.nasaspaceflight.com/2013/12/spacex-falcon-9-v1-1-milestone-ses-8-launch/   \n\n                                                       links.wikipedia  \\\n0                                https://en.wikipedia.org/wiki/DemoSat   \n1                                https://en.wikipedia.org/wiki/DemoSat   \n2                https://en.wikipedia.org/wiki/Trailblazer_(satellite)   \n3                                 https://en.wikipedia.org/wiki/Ratsat   \n4                               https://en.wikipedia.org/wiki/RazakSAT   \n5   https://en.wikipedia.org/wiki/Dragon_Spacecraft_Qualification_Unit   \n6              https://en.wikipedia.org/wiki/SpaceX_COTS_Demo_Flight_1   \n7                           https://en.wikipedia.org/wiki/Dragon_C2%2B   \n8                           https://en.wikipedia.org/wiki/SpaceX_CRS-1   \n9                           https://en.wikipedia.org/wiki/SpaceX_CRS-2   \n10                              https://en.wikipedia.org/wiki/CASSIOPE   \n11                                 https://en.wikipedia.org/wiki/SES-8   \n\n    fairings  \n0        NaN  \n1        NaN  \n2        NaN  \n3        NaN  \n4        NaN  \n5        NaN  \n6        NaN  \n7        NaN  \n8        NaN  \n9        NaN  \n10       NaN  \n11       NaN  "
                    },
                    "execution_count": 12,
                    "metadata": {},
                    "output_type": "execute_result"
                }
            ],
            "source": "response_static = requests.get(static_json_url)\ndata_static = pd.json_normalize(response_static.json())\ndata_static.head(12)"
        },
        {
            "cell_type": "markdown",
            "metadata": {},
            "source": "Using the dataframe <code>data</code> print the first 5 rows\n"
        },
        {
            "cell_type": "code",
            "execution_count": 13,
            "metadata": {},
            "outputs": [
                {
                    "data": {
                        "text/html": "<div>\n<style scoped>\n    .dataframe tbody tr th:only-of-type {\n        vertical-align: middle;\n    }\n\n    .dataframe tbody tr th {\n        vertical-align: top;\n    }\n\n    .dataframe thead th {\n        text-align: right;\n    }\n</style>\n<table border=\"1\" class=\"dataframe\">\n  <thead>\n    <tr style=\"text-align: right;\">\n      <th></th>\n      <th>static_fire_date_utc</th>\n      <th>static_fire_date_unix</th>\n      <th>net</th>\n      <th>window</th>\n      <th>rocket</th>\n      <th>success</th>\n      <th>failures</th>\n      <th>details</th>\n      <th>crew</th>\n      <th>ships</th>\n      <th>capsules</th>\n      <th>payloads</th>\n      <th>launchpad</th>\n      <th>flight_number</th>\n      <th>name</th>\n      <th>date_utc</th>\n      <th>date_unix</th>\n      <th>date_local</th>\n      <th>date_precision</th>\n      <th>upcoming</th>\n      <th>cores</th>\n      <th>auto_update</th>\n      <th>tbd</th>\n      <th>launch_library_id</th>\n      <th>id</th>\n      <th>fairings.reused</th>\n      <th>fairings.recovery_attempt</th>\n      <th>fairings.recovered</th>\n      <th>fairings.ships</th>\n      <th>links.patch.small</th>\n      <th>links.patch.large</th>\n      <th>links.reddit.campaign</th>\n      <th>links.reddit.launch</th>\n      <th>links.reddit.media</th>\n      <th>links.reddit.recovery</th>\n      <th>links.flickr.small</th>\n      <th>links.flickr.original</th>\n      <th>links.presskit</th>\n      <th>links.webcast</th>\n      <th>links.youtube_id</th>\n      <th>links.article</th>\n      <th>links.wikipedia</th>\n      <th>fairings</th>\n    </tr>\n  </thead>\n  <tbody>\n    <tr>\n      <th>0</th>\n      <td>2006-03-17T00:00:00.000Z</td>\n      <td>1.142554e+09</td>\n      <td>False</td>\n      <td>0.0</td>\n      <td>5e9d0d95eda69955f709d1eb</td>\n      <td>False</td>\n      <td>[{'time': 33, 'altitude': None, 'reason': 'merlin engine failure'}]</td>\n      <td>Engine failure at 33 seconds and loss of vehicle</td>\n      <td>[]</td>\n      <td>[]</td>\n      <td>[]</td>\n      <td>[5eb0e4b5b6c3bb0006eeb1e1]</td>\n      <td>5e9e4502f5090995de566f86</td>\n      <td>1</td>\n      <td>FalconSat</td>\n      <td>2006-03-24T22:30:00.000Z</td>\n      <td>1143239400</td>\n      <td>2006-03-25T10:30:00+12:00</td>\n      <td>hour</td>\n      <td>False</td>\n      <td>[{'core': '5e9e289df35918033d3b2623', 'flight': 1, 'gridfins': False, 'legs': False, 'reused': False, 'landing_attempt': False, 'landing_success': None, 'landing_type': None, 'landpad': None}]</td>\n      <td>True</td>\n      <td>False</td>\n      <td>None</td>\n      <td>5eb87cd9ffd86e000604b32a</td>\n      <td>False</td>\n      <td>False</td>\n      <td>False</td>\n      <td>[]</td>\n      <td>https://images2.imgbox.com/3c/0e/T8iJcSN3_o.png</td>\n      <td>https://images2.imgbox.com/40/e3/GypSkayF_o.png</td>\n      <td>None</td>\n      <td>None</td>\n      <td>None</td>\n      <td>None</td>\n      <td>[]</td>\n      <td>[]</td>\n      <td>None</td>\n      <td>https://www.youtube.com/watch?v=0a_00nJ_Y88</td>\n      <td>0a_00nJ_Y88</td>\n      <td>https://www.space.com/2196-spacex-inaugural-falcon-1-rocket-lost-launch.html</td>\n      <td>https://en.wikipedia.org/wiki/DemoSat</td>\n      <td>NaN</td>\n    </tr>\n    <tr>\n      <th>1</th>\n      <td>None</td>\n      <td>NaN</td>\n      <td>False</td>\n      <td>0.0</td>\n      <td>5e9d0d95eda69955f709d1eb</td>\n      <td>False</td>\n      <td>[{'time': 301, 'altitude': 289, 'reason': 'harmonic oscillation leading to premature engine shutdown'}]</td>\n      <td>Successful first stage burn and transition to second stage, maximum altitude 289 km, Premature engine shutdown at T+7 min 30 s, Failed to reach orbit, Failed to recover first stage</td>\n      <td>[]</td>\n      <td>[]</td>\n      <td>[]</td>\n      <td>[5eb0e4b6b6c3bb0006eeb1e2]</td>\n      <td>5e9e4502f5090995de566f86</td>\n      <td>2</td>\n      <td>DemoSat</td>\n      <td>2007-03-21T01:10:00.000Z</td>\n      <td>1174439400</td>\n      <td>2007-03-21T13:10:00+12:00</td>\n      <td>hour</td>\n      <td>False</td>\n      <td>[{'core': '5e9e289ef35918416a3b2624', 'flight': 1, 'gridfins': False, 'legs': False, 'reused': False, 'landing_attempt': False, 'landing_success': None, 'landing_type': None, 'landpad': None}]</td>\n      <td>True</td>\n      <td>False</td>\n      <td>None</td>\n      <td>5eb87cdaffd86e000604b32b</td>\n      <td>False</td>\n      <td>False</td>\n      <td>False</td>\n      <td>[]</td>\n      <td>https://images2.imgbox.com/4f/e3/I0lkuJ2e_o.png</td>\n      <td>https://images2.imgbox.com/be/e7/iNqsqVYM_o.png</td>\n      <td>None</td>\n      <td>None</td>\n      <td>None</td>\n      <td>None</td>\n      <td>[]</td>\n      <td>[]</td>\n      <td>None</td>\n      <td>https://www.youtube.com/watch?v=Lk4zQ2wP-Nc</td>\n      <td>Lk4zQ2wP-Nc</td>\n      <td>https://www.space.com/3590-spacex-falcon-1-rocket-fails-reach-orbit.html</td>\n      <td>https://en.wikipedia.org/wiki/DemoSat</td>\n      <td>NaN</td>\n    </tr>\n    <tr>\n      <th>2</th>\n      <td>None</td>\n      <td>NaN</td>\n      <td>False</td>\n      <td>0.0</td>\n      <td>5e9d0d95eda69955f709d1eb</td>\n      <td>False</td>\n      <td>[{'time': 140, 'altitude': 35, 'reason': 'residual stage-1 thrust led to collision between stage 1 and stage 2'}]</td>\n      <td>Residual stage 1 thrust led to collision between stage 1 and stage 2</td>\n      <td>[]</td>\n      <td>[]</td>\n      <td>[]</td>\n      <td>[5eb0e4b6b6c3bb0006eeb1e3, 5eb0e4b6b6c3bb0006eeb1e4]</td>\n      <td>5e9e4502f5090995de566f86</td>\n      <td>3</td>\n      <td>Trailblazer</td>\n      <td>2008-08-03T03:34:00.000Z</td>\n      <td>1217734440</td>\n      <td>2008-08-03T15:34:00+12:00</td>\n      <td>hour</td>\n      <td>False</td>\n      <td>[{'core': '5e9e289ef3591814873b2625', 'flight': 1, 'gridfins': False, 'legs': False, 'reused': False, 'landing_attempt': False, 'landing_success': None, 'landing_type': None, 'landpad': None}]</td>\n      <td>True</td>\n      <td>False</td>\n      <td>None</td>\n      <td>5eb87cdbffd86e000604b32c</td>\n      <td>False</td>\n      <td>False</td>\n      <td>False</td>\n      <td>[]</td>\n      <td>https://images2.imgbox.com/3d/86/cnu0pan8_o.png</td>\n      <td>https://images2.imgbox.com/4b/bd/d8UxLh4q_o.png</td>\n      <td>None</td>\n      <td>None</td>\n      <td>None</td>\n      <td>None</td>\n      <td>[]</td>\n      <td>[]</td>\n      <td>None</td>\n      <td>https://www.youtube.com/watch?v=v0w9p3U8860</td>\n      <td>v0w9p3U8860</td>\n      <td>http://www.spacex.com/news/2013/02/11/falcon-1-flight-3-mission-summary</td>\n      <td>https://en.wikipedia.org/wiki/Trailblazer_(satellite)</td>\n      <td>NaN</td>\n    </tr>\n    <tr>\n      <th>3</th>\n      <td>2008-09-20T00:00:00.000Z</td>\n      <td>1.221869e+09</td>\n      <td>False</td>\n      <td>0.0</td>\n      <td>5e9d0d95eda69955f709d1eb</td>\n      <td>True</td>\n      <td>[]</td>\n      <td>Ratsat was carried to orbit on the first successful orbital launch of any privately funded and developed, liquid-propelled carrier rocket, the\u00a0SpaceX Falcon 1</td>\n      <td>[]</td>\n      <td>[]</td>\n      <td>[]</td>\n      <td>[5eb0e4b7b6c3bb0006eeb1e5]</td>\n      <td>5e9e4502f5090995de566f86</td>\n      <td>4</td>\n      <td>RatSat</td>\n      <td>2008-09-28T23:15:00.000Z</td>\n      <td>1222643700</td>\n      <td>2008-09-28T11:15:00+12:00</td>\n      <td>hour</td>\n      <td>False</td>\n      <td>[{'core': '5e9e289ef3591855dc3b2626', 'flight': 1, 'gridfins': False, 'legs': False, 'reused': False, 'landing_attempt': False, 'landing_success': None, 'landing_type': None, 'landpad': None}]</td>\n      <td>True</td>\n      <td>False</td>\n      <td>None</td>\n      <td>5eb87cdbffd86e000604b32d</td>\n      <td>False</td>\n      <td>False</td>\n      <td>False</td>\n      <td>[]</td>\n      <td>https://images2.imgbox.com/e9/c9/T8CfiSYb_o.png</td>\n      <td>https://images2.imgbox.com/e0/a7/FNjvKlXW_o.png</td>\n      <td>None</td>\n      <td>None</td>\n      <td>None</td>\n      <td>None</td>\n      <td>[]</td>\n      <td>[]</td>\n      <td>None</td>\n      <td>https://www.youtube.com/watch?v=dLQ2tZEH6G0</td>\n      <td>dLQ2tZEH6G0</td>\n      <td>https://en.wikipedia.org/wiki/Ratsat</td>\n      <td>https://en.wikipedia.org/wiki/Ratsat</td>\n      <td>NaN</td>\n    </tr>\n    <tr>\n      <th>4</th>\n      <td>None</td>\n      <td>NaN</td>\n      <td>False</td>\n      <td>0.0</td>\n      <td>5e9d0d95eda69955f709d1eb</td>\n      <td>True</td>\n      <td>[]</td>\n      <td>None</td>\n      <td>[]</td>\n      <td>[]</td>\n      <td>[]</td>\n      <td>[5eb0e4b7b6c3bb0006eeb1e6]</td>\n      <td>5e9e4502f5090995de566f86</td>\n      <td>5</td>\n      <td>RazakSat</td>\n      <td>2009-07-13T03:35:00.000Z</td>\n      <td>1247456100</td>\n      <td>2009-07-13T15:35:00+12:00</td>\n      <td>hour</td>\n      <td>False</td>\n      <td>[{'core': '5e9e289ef359184f103b2627', 'flight': 1, 'gridfins': False, 'legs': False, 'reused': False, 'landing_attempt': False, 'landing_success': None, 'landing_type': None, 'landpad': None}]</td>\n      <td>True</td>\n      <td>False</td>\n      <td>None</td>\n      <td>5eb87cdcffd86e000604b32e</td>\n      <td>False</td>\n      <td>False</td>\n      <td>False</td>\n      <td>[]</td>\n      <td>https://images2.imgbox.com/a7/ba/NBZSw3Ho_o.png</td>\n      <td>https://images2.imgbox.com/8d/fc/0qdZMWWx_o.png</td>\n      <td>None</td>\n      <td>None</td>\n      <td>None</td>\n      <td>None</td>\n      <td>[]</td>\n      <td>[]</td>\n      <td>http://www.spacex.com/press/2012/12/19/spacexs-falcon-1-successfully-delivers-razaksat-satellite-orbit</td>\n      <td>https://www.youtube.com/watch?v=yTaIDooc8Og</td>\n      <td>yTaIDooc8Og</td>\n      <td>http://www.spacex.com/news/2013/02/12/falcon-1-flight-5</td>\n      <td>https://en.wikipedia.org/wiki/RazakSAT</td>\n      <td>NaN</td>\n    </tr>\n  </tbody>\n</table>\n</div>",
                        "text/plain": "       static_fire_date_utc  static_fire_date_unix    net  window  \\\n0  2006-03-17T00:00:00.000Z           1.142554e+09  False     0.0   \n1                      None                    NaN  False     0.0   \n2                      None                    NaN  False     0.0   \n3  2008-09-20T00:00:00.000Z           1.221869e+09  False     0.0   \n4                      None                    NaN  False     0.0   \n\n                     rocket  success  \\\n0  5e9d0d95eda69955f709d1eb    False   \n1  5e9d0d95eda69955f709d1eb    False   \n2  5e9d0d95eda69955f709d1eb    False   \n3  5e9d0d95eda69955f709d1eb     True   \n4  5e9d0d95eda69955f709d1eb     True   \n\n                                                                                                            failures  \\\n0                                                [{'time': 33, 'altitude': None, 'reason': 'merlin engine failure'}]   \n1            [{'time': 301, 'altitude': 289, 'reason': 'harmonic oscillation leading to premature engine shutdown'}]   \n2  [{'time': 140, 'altitude': 35, 'reason': 'residual stage-1 thrust led to collision between stage 1 and stage 2'}]   \n3                                                                                                                 []   \n4                                                                                                                 []   \n\n                                                                                                                                                                                details  \\\n0                                                                                                                                      Engine failure at 33 seconds and loss of vehicle   \n1  Successful first stage burn and transition to second stage, maximum altitude 289 km, Premature engine shutdown at T+7 min 30 s, Failed to reach orbit, Failed to recover first stage   \n2                                                                                                                  Residual stage 1 thrust led to collision between stage 1 and stage 2   \n3                        Ratsat was carried to orbit on the first successful orbital launch of any privately funded and developed, liquid-propelled carrier rocket, the\u00a0SpaceX Falcon 1   \n4                                                                                                                                                                                  None   \n\n  crew ships capsules                                              payloads  \\\n0   []    []       []                            [5eb0e4b5b6c3bb0006eeb1e1]   \n1   []    []       []                            [5eb0e4b6b6c3bb0006eeb1e2]   \n2   []    []       []  [5eb0e4b6b6c3bb0006eeb1e3, 5eb0e4b6b6c3bb0006eeb1e4]   \n3   []    []       []                            [5eb0e4b7b6c3bb0006eeb1e5]   \n4   []    []       []                            [5eb0e4b7b6c3bb0006eeb1e6]   \n\n                  launchpad  flight_number         name  \\\n0  5e9e4502f5090995de566f86              1    FalconSat   \n1  5e9e4502f5090995de566f86              2      DemoSat   \n2  5e9e4502f5090995de566f86              3  Trailblazer   \n3  5e9e4502f5090995de566f86              4       RatSat   \n4  5e9e4502f5090995de566f86              5     RazakSat   \n\n                   date_utc   date_unix                 date_local  \\\n0  2006-03-24T22:30:00.000Z  1143239400  2006-03-25T10:30:00+12:00   \n1  2007-03-21T01:10:00.000Z  1174439400  2007-03-21T13:10:00+12:00   \n2  2008-08-03T03:34:00.000Z  1217734440  2008-08-03T15:34:00+12:00   \n3  2008-09-28T23:15:00.000Z  1222643700  2008-09-28T11:15:00+12:00   \n4  2009-07-13T03:35:00.000Z  1247456100  2009-07-13T15:35:00+12:00   \n\n  date_precision  upcoming  \\\n0           hour     False   \n1           hour     False   \n2           hour     False   \n3           hour     False   \n4           hour     False   \n\n                                                                                                                                                                                              cores  \\\n0  [{'core': '5e9e289df35918033d3b2623', 'flight': 1, 'gridfins': False, 'legs': False, 'reused': False, 'landing_attempt': False, 'landing_success': None, 'landing_type': None, 'landpad': None}]   \n1  [{'core': '5e9e289ef35918416a3b2624', 'flight': 1, 'gridfins': False, 'legs': False, 'reused': False, 'landing_attempt': False, 'landing_success': None, 'landing_type': None, 'landpad': None}]   \n2  [{'core': '5e9e289ef3591814873b2625', 'flight': 1, 'gridfins': False, 'legs': False, 'reused': False, 'landing_attempt': False, 'landing_success': None, 'landing_type': None, 'landpad': None}]   \n3  [{'core': '5e9e289ef3591855dc3b2626', 'flight': 1, 'gridfins': False, 'legs': False, 'reused': False, 'landing_attempt': False, 'landing_success': None, 'landing_type': None, 'landpad': None}]   \n4  [{'core': '5e9e289ef359184f103b2627', 'flight': 1, 'gridfins': False, 'legs': False, 'reused': False, 'landing_attempt': False, 'landing_success': None, 'landing_type': None, 'landpad': None}]   \n\n   auto_update    tbd launch_library_id                        id  \\\n0         True  False              None  5eb87cd9ffd86e000604b32a   \n1         True  False              None  5eb87cdaffd86e000604b32b   \n2         True  False              None  5eb87cdbffd86e000604b32c   \n3         True  False              None  5eb87cdbffd86e000604b32d   \n4         True  False              None  5eb87cdcffd86e000604b32e   \n\n  fairings.reused fairings.recovery_attempt fairings.recovered fairings.ships  \\\n0           False                     False              False             []   \n1           False                     False              False             []   \n2           False                     False              False             []   \n3           False                     False              False             []   \n4           False                     False              False             []   \n\n                                 links.patch.small  \\\n0  https://images2.imgbox.com/3c/0e/T8iJcSN3_o.png   \n1  https://images2.imgbox.com/4f/e3/I0lkuJ2e_o.png   \n2  https://images2.imgbox.com/3d/86/cnu0pan8_o.png   \n3  https://images2.imgbox.com/e9/c9/T8CfiSYb_o.png   \n4  https://images2.imgbox.com/a7/ba/NBZSw3Ho_o.png   \n\n                                 links.patch.large links.reddit.campaign  \\\n0  https://images2.imgbox.com/40/e3/GypSkayF_o.png                  None   \n1  https://images2.imgbox.com/be/e7/iNqsqVYM_o.png                  None   \n2  https://images2.imgbox.com/4b/bd/d8UxLh4q_o.png                  None   \n3  https://images2.imgbox.com/e0/a7/FNjvKlXW_o.png                  None   \n4  https://images2.imgbox.com/8d/fc/0qdZMWWx_o.png                  None   \n\n  links.reddit.launch links.reddit.media links.reddit.recovery  \\\n0                None               None                  None   \n1                None               None                  None   \n2                None               None                  None   \n3                None               None                  None   \n4                None               None                  None   \n\n  links.flickr.small links.flickr.original  \\\n0                 []                    []   \n1                 []                    []   \n2                 []                    []   \n3                 []                    []   \n4                 []                    []   \n\n                                                                                           links.presskit  \\\n0                                                                                                    None   \n1                                                                                                    None   \n2                                                                                                    None   \n3                                                                                                    None   \n4  http://www.spacex.com/press/2012/12/19/spacexs-falcon-1-successfully-delivers-razaksat-satellite-orbit   \n\n                                 links.webcast links.youtube_id  \\\n0  https://www.youtube.com/watch?v=0a_00nJ_Y88      0a_00nJ_Y88   \n1  https://www.youtube.com/watch?v=Lk4zQ2wP-Nc      Lk4zQ2wP-Nc   \n2  https://www.youtube.com/watch?v=v0w9p3U8860      v0w9p3U8860   \n3  https://www.youtube.com/watch?v=dLQ2tZEH6G0      dLQ2tZEH6G0   \n4  https://www.youtube.com/watch?v=yTaIDooc8Og      yTaIDooc8Og   \n\n                                                                  links.article  \\\n0  https://www.space.com/2196-spacex-inaugural-falcon-1-rocket-lost-launch.html   \n1      https://www.space.com/3590-spacex-falcon-1-rocket-fails-reach-orbit.html   \n2       http://www.spacex.com/news/2013/02/11/falcon-1-flight-3-mission-summary   \n3                                          https://en.wikipedia.org/wiki/Ratsat   \n4                       http://www.spacex.com/news/2013/02/12/falcon-1-flight-5   \n\n                                         links.wikipedia  fairings  \n0                  https://en.wikipedia.org/wiki/DemoSat       NaN  \n1                  https://en.wikipedia.org/wiki/DemoSat       NaN  \n2  https://en.wikipedia.org/wiki/Trailblazer_(satellite)       NaN  \n3                   https://en.wikipedia.org/wiki/Ratsat       NaN  \n4                 https://en.wikipedia.org/wiki/RazakSAT       NaN  "
                    },
                    "execution_count": 13,
                    "metadata": {},
                    "output_type": "execute_result"
                }
            ],
            "source": "# Get the head of the dataframe\ndata.head(5)"
        },
        {
            "cell_type": "markdown",
            "metadata": {},
            "source": "You will notice that a lot of the data are IDs. For example the rocket column has no information about the rocket just an identification number.\n\nWe will now use the API again to get information about the launches using the IDs given for each launch. Specifically we will be using columns <code>rocket</code>, <code>payloads</code>, <code>launchpad</code>, and <code>cores</code>.\n"
        },
        {
            "cell_type": "code",
            "execution_count": 14,
            "metadata": {},
            "outputs": [],
            "source": "# Lets take a subset of our dataframe keeping only the features we want and the flight number, and date_utc.\ndata = data[['rocket', 'payloads', 'launchpad', 'cores', 'flight_number', 'date_utc']]\n\n# We will remove rows with multiple cores because those are falcon rockets with 2 extra rocket boosters and rows that have multiple payloads in a single rocket.\ndata = data[data['cores'].map(len)==1]\ndata = data[data['payloads'].map(len)==1]\n\n# Since payloads and cores are lists of size 1 we will also extract the single value in the list and replace the feature.\ndata['cores'] = data['cores'].map(lambda x : x[0])\ndata['payloads'] = data['payloads'].map(lambda x : x[0])\n\n# We also want to convert the date_utc to a datetime datatype and then extracting the date leaving the time\ndata['date'] = pd.to_datetime(data['date_utc']).dt.date\n\n# Using the date we will restrict the dates of the launches\ndata = data[data['date'] <= datetime.date(2020, 11, 13)]"
        },
        {
            "cell_type": "markdown",
            "metadata": {},
            "source": "*   From the <code>rocket</code> we would like to learn the booster name\n\n*   From the <code>payload</code> we would like to learn the mass of the payload and the orbit that it is going to\n\n*   From the <code>launchpad</code> we would like to know the name of the launch site being used, the longitude, and the latitude.\n\n*   From <code>cores</code> we would like to learn the outcome of the landing, the type of the landing, number of flights with that core, whether gridfins were used, whether the core is reused, whether legs were used, the landing pad used, the block of the core which is a number used to seperate version of cores, the number of times this specific core has been reused, and the serial of the core.\n\nThe data from these requests will be stored in lists and will be used to create a new dataframe.\n"
        },
        {
            "cell_type": "code",
            "execution_count": 15,
            "metadata": {},
            "outputs": [],
            "source": "#Global variables \nBoosterVersion = []\nPayloadMass = []\nOrbit = []\nLaunchSite = []\nOutcome = []\nFlights = []\nGridFins = []\nReused = []\nLegs = []\nLandingPad = []\nBlock = []\nReusedCount = []\nSerial = []\nLongitude = []\nLatitude = []"
        },
        {
            "cell_type": "markdown",
            "metadata": {},
            "source": "These functions will apply the outputs globally to the above variables. Let's take a looks at <code>BoosterVersion</code> variable. Before we apply  <code>getBoosterVersion</code> the list is empty:\n"
        },
        {
            "cell_type": "code",
            "execution_count": 16,
            "metadata": {},
            "outputs": [
                {
                    "data": {
                        "text/plain": "[]"
                    },
                    "execution_count": 16,
                    "metadata": {},
                    "output_type": "execute_result"
                }
            ],
            "source": "BoosterVersion"
        },
        {
            "cell_type": "markdown",
            "metadata": {},
            "source": "Now, let's apply <code> getBoosterVersion</code> function method to get the booster version\n"
        },
        {
            "cell_type": "code",
            "execution_count": 17,
            "metadata": {},
            "outputs": [],
            "source": "# Call getBoosterVersion\ngetBoosterVersion(data)"
        },
        {
            "cell_type": "markdown",
            "metadata": {},
            "source": "the list has now been update\n"
        },
        {
            "cell_type": "code",
            "execution_count": 18,
            "metadata": {},
            "outputs": [
                {
                    "data": {
                        "text/plain": "['Falcon 1', 'Falcon 1', 'Falcon 1', 'Falcon 1', 'Falcon 9']"
                    },
                    "execution_count": 18,
                    "metadata": {},
                    "output_type": "execute_result"
                }
            ],
            "source": "BoosterVersion[0:5]"
        },
        {
            "cell_type": "markdown",
            "metadata": {},
            "source": "we can apply the rest of the  functions here:\n"
        },
        {
            "cell_type": "code",
            "execution_count": 19,
            "metadata": {},
            "outputs": [],
            "source": "# Call getLaunchSite\ngetLaunchSite(data)"
        },
        {
            "cell_type": "code",
            "execution_count": 20,
            "metadata": {},
            "outputs": [],
            "source": "# Call getPayloadData\ngetPayloadData(data)"
        },
        {
            "cell_type": "code",
            "execution_count": 21,
            "metadata": {},
            "outputs": [],
            "source": "# Call getCoreData\ngetCoreData(data)"
        },
        {
            "cell_type": "markdown",
            "metadata": {},
            "source": "Finally lets construct our dataset using the data we have obtained. We we combine the columns into a dictionary.\n"
        },
        {
            "cell_type": "code",
            "execution_count": 22,
            "metadata": {},
            "outputs": [],
            "source": "launch_dict = {'FlightNumber': list(data['flight_number']),\n'Date': list(data['date']),\n'BoosterVersion':BoosterVersion,\n'PayloadMass':PayloadMass,\n'Orbit':Orbit,\n'LaunchSite':LaunchSite,\n'Outcome':Outcome,\n'Flights':Flights,\n'GridFins':GridFins,\n'Reused':Reused,\n'Legs':Legs,\n'LandingPad':LandingPad,\n'Block':Block,\n'ReusedCount':ReusedCount,\n'Serial':Serial,\n'Longitude': Longitude,\n'Latitude': Latitude}\n"
        },
        {
            "cell_type": "markdown",
            "metadata": {},
            "source": "Then, we need to create a Pandas data frame from the dictionary launch_dict.\n"
        },
        {
            "cell_type": "code",
            "execution_count": 23,
            "metadata": {},
            "outputs": [],
            "source": "# Create a data from launch_dict\ndf = pd.DataFrame.from_dict(launch_dict, orient='index')\ndf = df.transpose()"
        },
        {
            "cell_type": "markdown",
            "metadata": {},
            "source": "Show the summary of the dataframe\n"
        },
        {
            "cell_type": "code",
            "execution_count": 24,
            "metadata": {},
            "outputs": [
                {
                    "data": {
                        "text/html": "<div>\n<style scoped>\n    .dataframe tbody tr th:only-of-type {\n        vertical-align: middle;\n    }\n\n    .dataframe tbody tr th {\n        vertical-align: top;\n    }\n\n    .dataframe thead th {\n        text-align: right;\n    }\n</style>\n<table border=\"1\" class=\"dataframe\">\n  <thead>\n    <tr style=\"text-align: right;\">\n      <th></th>\n      <th>FlightNumber</th>\n      <th>Date</th>\n      <th>BoosterVersion</th>\n      <th>PayloadMass</th>\n      <th>Orbit</th>\n      <th>LaunchSite</th>\n      <th>Outcome</th>\n      <th>Flights</th>\n      <th>GridFins</th>\n      <th>Reused</th>\n      <th>Legs</th>\n      <th>LandingPad</th>\n      <th>Block</th>\n      <th>ReusedCount</th>\n      <th>Serial</th>\n      <th>Longitude</th>\n      <th>Latitude</th>\n    </tr>\n  </thead>\n  <tbody>\n    <tr>\n      <th>0</th>\n      <td>1</td>\n      <td>2006-03-24</td>\n      <td>Falcon 1</td>\n      <td>20</td>\n      <td>LEO</td>\n      <td>Kwajalein Atoll</td>\n      <td>None None</td>\n      <td>1</td>\n      <td>False</td>\n      <td>False</td>\n      <td>False</td>\n      <td>None</td>\n      <td>None</td>\n      <td>0</td>\n      <td>Merlin1A</td>\n      <td>167.743129</td>\n      <td>9.047721</td>\n    </tr>\n    <tr>\n      <th>1</th>\n      <td>2</td>\n      <td>2007-03-21</td>\n      <td>Falcon 1</td>\n      <td>None</td>\n      <td>LEO</td>\n      <td>Kwajalein Atoll</td>\n      <td>None None</td>\n      <td>1</td>\n      <td>False</td>\n      <td>False</td>\n      <td>False</td>\n      <td>None</td>\n      <td>None</td>\n      <td>0</td>\n      <td>Merlin2A</td>\n      <td>167.743129</td>\n      <td>9.047721</td>\n    </tr>\n    <tr>\n      <th>2</th>\n      <td>4</td>\n      <td>2008-09-28</td>\n      <td>Falcon 1</td>\n      <td>165</td>\n      <td>LEO</td>\n      <td>Kwajalein Atoll</td>\n      <td>None None</td>\n      <td>1</td>\n      <td>False</td>\n      <td>False</td>\n      <td>False</td>\n      <td>None</td>\n      <td>None</td>\n      <td>0</td>\n      <td>Merlin2C</td>\n      <td>167.743129</td>\n      <td>9.047721</td>\n    </tr>\n    <tr>\n      <th>3</th>\n      <td>5</td>\n      <td>2009-07-13</td>\n      <td>Falcon 1</td>\n      <td>200</td>\n      <td>LEO</td>\n      <td>Kwajalein Atoll</td>\n      <td>None None</td>\n      <td>1</td>\n      <td>False</td>\n      <td>False</td>\n      <td>False</td>\n      <td>None</td>\n      <td>None</td>\n      <td>0</td>\n      <td>Merlin3C</td>\n      <td>167.743129</td>\n      <td>9.047721</td>\n    </tr>\n    <tr>\n      <th>4</th>\n      <td>6</td>\n      <td>2010-06-04</td>\n      <td>Falcon 9</td>\n      <td>None</td>\n      <td>LEO</td>\n      <td>CCSFS SLC 40</td>\n      <td>None None</td>\n      <td>1</td>\n      <td>False</td>\n      <td>False</td>\n      <td>False</td>\n      <td>None</td>\n      <td>1</td>\n      <td>0</td>\n      <td>B0003</td>\n      <td>-80.577366</td>\n      <td>28.561857</td>\n    </tr>\n  </tbody>\n</table>\n</div>",
                        "text/plain": "  FlightNumber        Date BoosterVersion PayloadMass Orbit       LaunchSite  \\\n0            1  2006-03-24       Falcon 1          20   LEO  Kwajalein Atoll   \n1            2  2007-03-21       Falcon 1        None   LEO  Kwajalein Atoll   \n2            4  2008-09-28       Falcon 1         165   LEO  Kwajalein Atoll   \n3            5  2009-07-13       Falcon 1         200   LEO  Kwajalein Atoll   \n4            6  2010-06-04       Falcon 9        None   LEO     CCSFS SLC 40   \n\n     Outcome Flights GridFins Reused   Legs LandingPad Block ReusedCount  \\\n0  None None       1    False  False  False       None  None           0   \n1  None None       1    False  False  False       None  None           0   \n2  None None       1    False  False  False       None  None           0   \n3  None None       1    False  False  False       None  None           0   \n4  None None       1    False  False  False       None     1           0   \n\n     Serial   Longitude   Latitude  \n0  Merlin1A  167.743129   9.047721  \n1  Merlin2A  167.743129   9.047721  \n2  Merlin2C  167.743129   9.047721  \n3  Merlin3C  167.743129   9.047721  \n4     B0003  -80.577366  28.561857  "
                    },
                    "execution_count": 24,
                    "metadata": {},
                    "output_type": "execute_result"
                }
            ],
            "source": "# Show the head of the dataframe\ndf.head()"
        },
        {
            "cell_type": "markdown",
            "metadata": {},
            "source": "### Task 2: Filter the dataframe to only include `Falcon 9` launches\n"
        },
        {
            "cell_type": "markdown",
            "metadata": {},
            "source": "Finally we will remove the Falcon 1 launches keeping only the Falcon 9 launches. Filter the data dataframe using the <code>BoosterVersion</code> column to only keep the Falcon 9 launches. Save the filtered data to a new dataframe called <code>data_falcon9</code>.\n"
        },
        {
            "cell_type": "code",
            "execution_count": 46,
            "metadata": {},
            "outputs": [],
            "source": "# Hint data['BoosterVersion']!='Falcon 1'\ndata_falcon9 = df[df['BoosterVersion']!='Falcon 1']"
        },
        {
            "cell_type": "markdown",
            "metadata": {},
            "source": "Now that we have removed some values we should reset the FlgihtNumber column\n"
        },
        {
            "cell_type": "code",
            "execution_count": 47,
            "metadata": {},
            "outputs": [
                {
                    "data": {
                        "text/html": "<div>\n<style scoped>\n    .dataframe tbody tr th:only-of-type {\n        vertical-align: middle;\n    }\n\n    .dataframe tbody tr th {\n        vertical-align: top;\n    }\n\n    .dataframe thead th {\n        text-align: right;\n    }\n</style>\n<table border=\"1\" class=\"dataframe\">\n  <thead>\n    <tr style=\"text-align: right;\">\n      <th></th>\n      <th>FlightNumber</th>\n      <th>Date</th>\n      <th>BoosterVersion</th>\n      <th>PayloadMass</th>\n      <th>Orbit</th>\n      <th>LaunchSite</th>\n      <th>Outcome</th>\n      <th>Flights</th>\n      <th>GridFins</th>\n      <th>Reused</th>\n      <th>Legs</th>\n      <th>LandingPad</th>\n      <th>Block</th>\n      <th>ReusedCount</th>\n      <th>Serial</th>\n      <th>Longitude</th>\n      <th>Latitude</th>\n    </tr>\n  </thead>\n  <tbody>\n    <tr>\n      <th>4</th>\n      <td>6</td>\n      <td>2010-06-04</td>\n      <td>Falcon 9</td>\n      <td>None</td>\n      <td>LEO</td>\n      <td>CCSFS SLC 40</td>\n      <td>None None</td>\n      <td>1</td>\n      <td>False</td>\n      <td>False</td>\n      <td>False</td>\n      <td>None</td>\n      <td>1</td>\n      <td>0</td>\n      <td>B0003</td>\n      <td>-80.577366</td>\n      <td>28.561857</td>\n    </tr>\n    <tr>\n      <th>5</th>\n      <td>8</td>\n      <td>2012-05-22</td>\n      <td>Falcon 9</td>\n      <td>525</td>\n      <td>LEO</td>\n      <td>CCSFS SLC 40</td>\n      <td>None None</td>\n      <td>1</td>\n      <td>False</td>\n      <td>False</td>\n      <td>False</td>\n      <td>None</td>\n      <td>1</td>\n      <td>0</td>\n      <td>B0005</td>\n      <td>-80.577366</td>\n      <td>28.561857</td>\n    </tr>\n    <tr>\n      <th>6</th>\n      <td>10</td>\n      <td>2013-03-01</td>\n      <td>Falcon 9</td>\n      <td>677</td>\n      <td>ISS</td>\n      <td>CCSFS SLC 40</td>\n      <td>None None</td>\n      <td>1</td>\n      <td>False</td>\n      <td>False</td>\n      <td>False</td>\n      <td>None</td>\n      <td>1</td>\n      <td>0</td>\n      <td>B0007</td>\n      <td>-80.577366</td>\n      <td>28.561857</td>\n    </tr>\n    <tr>\n      <th>7</th>\n      <td>11</td>\n      <td>2013-09-29</td>\n      <td>Falcon 9</td>\n      <td>500</td>\n      <td>PO</td>\n      <td>VAFB SLC 4E</td>\n      <td>False Ocean</td>\n      <td>1</td>\n      <td>False</td>\n      <td>False</td>\n      <td>False</td>\n      <td>None</td>\n      <td>1</td>\n      <td>0</td>\n      <td>B1003</td>\n      <td>-120.610829</td>\n      <td>34.632093</td>\n    </tr>\n    <tr>\n      <th>8</th>\n      <td>12</td>\n      <td>2013-12-03</td>\n      <td>Falcon 9</td>\n      <td>3170</td>\n      <td>GTO</td>\n      <td>CCSFS SLC 40</td>\n      <td>None None</td>\n      <td>1</td>\n      <td>False</td>\n      <td>False</td>\n      <td>False</td>\n      <td>None</td>\n      <td>1</td>\n      <td>0</td>\n      <td>B1004</td>\n      <td>-80.577366</td>\n      <td>28.561857</td>\n    </tr>\n  </tbody>\n</table>\n</div>",
                        "text/plain": "  FlightNumber        Date BoosterVersion PayloadMass Orbit    LaunchSite  \\\n4            6  2010-06-04       Falcon 9        None   LEO  CCSFS SLC 40   \n5            8  2012-05-22       Falcon 9         525   LEO  CCSFS SLC 40   \n6           10  2013-03-01       Falcon 9         677   ISS  CCSFS SLC 40   \n7           11  2013-09-29       Falcon 9         500    PO   VAFB SLC 4E   \n8           12  2013-12-03       Falcon 9        3170   GTO  CCSFS SLC 40   \n\n       Outcome Flights GridFins Reused   Legs LandingPad Block ReusedCount  \\\n4    None None       1    False  False  False       None     1           0   \n5    None None       1    False  False  False       None     1           0   \n6    None None       1    False  False  False       None     1           0   \n7  False Ocean       1    False  False  False       None     1           0   \n8    None None       1    False  False  False       None     1           0   \n\n  Serial   Longitude   Latitude  \n4  B0003  -80.577366  28.561857  \n5  B0005  -80.577366  28.561857  \n6  B0007  -80.577366  28.561857  \n7  B1003 -120.610829  34.632093  \n8  B1004  -80.577366  28.561857  "
                    },
                    "execution_count": 47,
                    "metadata": {},
                    "output_type": "execute_result"
                }
            ],
            "source": "data_falcon9.head()"
        },
        {
            "cell_type": "code",
            "execution_count": 48,
            "metadata": {},
            "outputs": [
                {
                    "name": "stderr",
                    "output_type": "stream",
                    "text": "/opt/conda/envs/Python-3.8-main/lib/python3.8/site-packages/pandas/core/indexing.py:1843: SettingWithCopyWarning: \nA value is trying to be set on a copy of a slice from a DataFrame.\nTry using .loc[row_indexer,col_indexer] = value instead\n\nSee the caveats in the documentation: https://pandas.pydata.org/pandas-docs/stable/user_guide/indexing.html#returning-a-view-versus-a-copy\n  self.obj[item_labels[indexer[info_axis]]] = value\n"
                },
                {
                    "data": {
                        "text/html": "<div>\n<style scoped>\n    .dataframe tbody tr th:only-of-type {\n        vertical-align: middle;\n    }\n\n    .dataframe tbody tr th {\n        vertical-align: top;\n    }\n\n    .dataframe thead th {\n        text-align: right;\n    }\n</style>\n<table border=\"1\" class=\"dataframe\">\n  <thead>\n    <tr style=\"text-align: right;\">\n      <th></th>\n      <th>FlightNumber</th>\n      <th>Date</th>\n      <th>BoosterVersion</th>\n      <th>PayloadMass</th>\n      <th>Orbit</th>\n      <th>LaunchSite</th>\n      <th>Outcome</th>\n      <th>Flights</th>\n      <th>GridFins</th>\n      <th>Reused</th>\n      <th>Legs</th>\n      <th>LandingPad</th>\n      <th>Block</th>\n      <th>ReusedCount</th>\n      <th>Serial</th>\n      <th>Longitude</th>\n      <th>Latitude</th>\n    </tr>\n  </thead>\n  <tbody>\n    <tr>\n      <th>4</th>\n      <td>1</td>\n      <td>2010-06-04</td>\n      <td>Falcon 9</td>\n      <td>None</td>\n      <td>LEO</td>\n      <td>CCSFS SLC 40</td>\n      <td>None None</td>\n      <td>1</td>\n      <td>False</td>\n      <td>False</td>\n      <td>False</td>\n      <td>None</td>\n      <td>1</td>\n      <td>0</td>\n      <td>B0003</td>\n      <td>-80.577366</td>\n      <td>28.561857</td>\n    </tr>\n    <tr>\n      <th>5</th>\n      <td>2</td>\n      <td>2012-05-22</td>\n      <td>Falcon 9</td>\n      <td>525</td>\n      <td>LEO</td>\n      <td>CCSFS SLC 40</td>\n      <td>None None</td>\n      <td>1</td>\n      <td>False</td>\n      <td>False</td>\n      <td>False</td>\n      <td>None</td>\n      <td>1</td>\n      <td>0</td>\n      <td>B0005</td>\n      <td>-80.577366</td>\n      <td>28.561857</td>\n    </tr>\n    <tr>\n      <th>6</th>\n      <td>3</td>\n      <td>2013-03-01</td>\n      <td>Falcon 9</td>\n      <td>677</td>\n      <td>ISS</td>\n      <td>CCSFS SLC 40</td>\n      <td>None None</td>\n      <td>1</td>\n      <td>False</td>\n      <td>False</td>\n      <td>False</td>\n      <td>None</td>\n      <td>1</td>\n      <td>0</td>\n      <td>B0007</td>\n      <td>-80.577366</td>\n      <td>28.561857</td>\n    </tr>\n    <tr>\n      <th>7</th>\n      <td>4</td>\n      <td>2013-09-29</td>\n      <td>Falcon 9</td>\n      <td>500</td>\n      <td>PO</td>\n      <td>VAFB SLC 4E</td>\n      <td>False Ocean</td>\n      <td>1</td>\n      <td>False</td>\n      <td>False</td>\n      <td>False</td>\n      <td>None</td>\n      <td>1</td>\n      <td>0</td>\n      <td>B1003</td>\n      <td>-120.610829</td>\n      <td>34.632093</td>\n    </tr>\n    <tr>\n      <th>8</th>\n      <td>5</td>\n      <td>2013-12-03</td>\n      <td>Falcon 9</td>\n      <td>3170</td>\n      <td>GTO</td>\n      <td>CCSFS SLC 40</td>\n      <td>None None</td>\n      <td>1</td>\n      <td>False</td>\n      <td>False</td>\n      <td>False</td>\n      <td>None</td>\n      <td>1</td>\n      <td>0</td>\n      <td>B1004</td>\n      <td>-80.577366</td>\n      <td>28.561857</td>\n    </tr>\n    <tr>\n      <th>...</th>\n      <td>...</td>\n      <td>...</td>\n      <td>...</td>\n      <td>...</td>\n      <td>...</td>\n      <td>...</td>\n      <td>...</td>\n      <td>...</td>\n      <td>...</td>\n      <td>...</td>\n      <td>...</td>\n      <td>...</td>\n      <td>...</td>\n      <td>...</td>\n      <td>...</td>\n      <td>...</td>\n      <td>...</td>\n    </tr>\n    <tr>\n      <th>89</th>\n      <td>86</td>\n      <td>2020-09-03</td>\n      <td>Falcon 9</td>\n      <td>15600</td>\n      <td>VLEO</td>\n      <td>KSC LC 39A</td>\n      <td>True ASDS</td>\n      <td>2</td>\n      <td>True</td>\n      <td>True</td>\n      <td>True</td>\n      <td>5e9e3032383ecb6bb234e7ca</td>\n      <td>5</td>\n      <td>9</td>\n      <td>B1060</td>\n      <td>-80.603956</td>\n      <td>28.608058</td>\n    </tr>\n    <tr>\n      <th>90</th>\n      <td>87</td>\n      <td>2020-10-06</td>\n      <td>Falcon 9</td>\n      <td>15600</td>\n      <td>VLEO</td>\n      <td>KSC LC 39A</td>\n      <td>True ASDS</td>\n      <td>3</td>\n      <td>True</td>\n      <td>True</td>\n      <td>True</td>\n      <td>5e9e3032383ecb6bb234e7ca</td>\n      <td>5</td>\n      <td>9</td>\n      <td>B1058</td>\n      <td>-80.603956</td>\n      <td>28.608058</td>\n    </tr>\n    <tr>\n      <th>91</th>\n      <td>88</td>\n      <td>2020-10-18</td>\n      <td>Falcon 9</td>\n      <td>15600</td>\n      <td>VLEO</td>\n      <td>KSC LC 39A</td>\n      <td>True ASDS</td>\n      <td>6</td>\n      <td>True</td>\n      <td>True</td>\n      <td>True</td>\n      <td>5e9e3032383ecb6bb234e7ca</td>\n      <td>5</td>\n      <td>10</td>\n      <td>B1051</td>\n      <td>-80.603956</td>\n      <td>28.608058</td>\n    </tr>\n    <tr>\n      <th>92</th>\n      <td>89</td>\n      <td>2020-10-24</td>\n      <td>Falcon 9</td>\n      <td>15600</td>\n      <td>VLEO</td>\n      <td>CCSFS SLC 40</td>\n      <td>True ASDS</td>\n      <td>3</td>\n      <td>True</td>\n      <td>True</td>\n      <td>True</td>\n      <td>5e9e3033383ecbb9e534e7cc</td>\n      <td>5</td>\n      <td>9</td>\n      <td>B1060</td>\n      <td>-80.577366</td>\n      <td>28.561857</td>\n    </tr>\n    <tr>\n      <th>93</th>\n      <td>90</td>\n      <td>2020-11-05</td>\n      <td>Falcon 9</td>\n      <td>3681</td>\n      <td>MEO</td>\n      <td>CCSFS SLC 40</td>\n      <td>True ASDS</td>\n      <td>1</td>\n      <td>True</td>\n      <td>False</td>\n      <td>True</td>\n      <td>5e9e3032383ecb6bb234e7ca</td>\n      <td>5</td>\n      <td>3</td>\n      <td>B1062</td>\n      <td>-80.577366</td>\n      <td>28.561857</td>\n    </tr>\n  </tbody>\n</table>\n<p>90 rows \u00d7 17 columns</p>\n</div>",
                        "text/plain": "    FlightNumber        Date BoosterVersion PayloadMass Orbit    LaunchSite  \\\n4              1  2010-06-04       Falcon 9        None   LEO  CCSFS SLC 40   \n5              2  2012-05-22       Falcon 9         525   LEO  CCSFS SLC 40   \n6              3  2013-03-01       Falcon 9         677   ISS  CCSFS SLC 40   \n7              4  2013-09-29       Falcon 9         500    PO   VAFB SLC 4E   \n8              5  2013-12-03       Falcon 9        3170   GTO  CCSFS SLC 40   \n..           ...         ...            ...         ...   ...           ...   \n89            86  2020-09-03       Falcon 9       15600  VLEO    KSC LC 39A   \n90            87  2020-10-06       Falcon 9       15600  VLEO    KSC LC 39A   \n91            88  2020-10-18       Falcon 9       15600  VLEO    KSC LC 39A   \n92            89  2020-10-24       Falcon 9       15600  VLEO  CCSFS SLC 40   \n93            90  2020-11-05       Falcon 9        3681   MEO  CCSFS SLC 40   \n\n        Outcome Flights GridFins Reused   Legs                LandingPad  \\\n4     None None       1    False  False  False                      None   \n5     None None       1    False  False  False                      None   \n6     None None       1    False  False  False                      None   \n7   False Ocean       1    False  False  False                      None   \n8     None None       1    False  False  False                      None   \n..          ...     ...      ...    ...    ...                       ...   \n89    True ASDS       2     True   True   True  5e9e3032383ecb6bb234e7ca   \n90    True ASDS       3     True   True   True  5e9e3032383ecb6bb234e7ca   \n91    True ASDS       6     True   True   True  5e9e3032383ecb6bb234e7ca   \n92    True ASDS       3     True   True   True  5e9e3033383ecbb9e534e7cc   \n93    True ASDS       1     True  False   True  5e9e3032383ecb6bb234e7ca   \n\n   Block ReusedCount Serial   Longitude   Latitude  \n4      1           0  B0003  -80.577366  28.561857  \n5      1           0  B0005  -80.577366  28.561857  \n6      1           0  B0007  -80.577366  28.561857  \n7      1           0  B1003 -120.610829  34.632093  \n8      1           0  B1004  -80.577366  28.561857  \n..   ...         ...    ...         ...        ...  \n89     5           9  B1060  -80.603956  28.608058  \n90     5           9  B1058  -80.603956  28.608058  \n91     5          10  B1051  -80.603956  28.608058  \n92     5           9  B1060  -80.577366  28.561857  \n93     5           3  B1062  -80.577366  28.561857  \n\n[90 rows x 17 columns]"
                    },
                    "execution_count": 48,
                    "metadata": {},
                    "output_type": "execute_result"
                }
            ],
            "source": "data_falcon9.loc[:,'FlightNumber'] = list(range(1, data_falcon9.shape[0]+1))\ndata_falcon9"
        },
        {
            "cell_type": "markdown",
            "metadata": {},
            "source": "## Data Wrangling\n"
        },
        {
            "cell_type": "markdown",
            "metadata": {},
            "source": "We can see below that some of the rows are missing values in our dataset.\n"
        },
        {
            "cell_type": "code",
            "execution_count": 49,
            "metadata": {},
            "outputs": [
                {
                    "data": {
                        "text/plain": "FlightNumber       0\nDate               0\nBoosterVersion     0\nPayloadMass        5\nOrbit              0\nLaunchSite         0\nOutcome            0\nFlights            0\nGridFins           0\nReused             0\nLegs               0\nLandingPad        26\nBlock              0\nReusedCount        0\nSerial             0\nLongitude          0\nLatitude           0\ndtype: int64"
                    },
                    "execution_count": 49,
                    "metadata": {},
                    "output_type": "execute_result"
                }
            ],
            "source": "data_falcon9.isnull().sum()"
        },
        {
            "cell_type": "markdown",
            "metadata": {},
            "source": "Before we can continue we must deal with these missing values. The <code>LandingPad</code> column will retain None values to represent when landing pads were not used.\n"
        },
        {
            "cell_type": "markdown",
            "metadata": {},
            "source": "### Task 3: Dealing with Missing Values\n"
        },
        {
            "cell_type": "markdown",
            "metadata": {},
            "source": "Calculate below the mean for the <code>PayloadMass</code> using the <code>.mean()</code>. Then use the mean and the <code>.replace()</code> function to replace `np.nan` values in the data with the mean you calculated.\n"
        },
        {
            "cell_type": "code",
            "execution_count": 50,
            "metadata": {},
            "outputs": [
                {
                    "name": "stdout",
                    "output_type": "stream",
                    "text": "6123.547647058824\n"
                },
                {
                    "name": "stderr",
                    "output_type": "stream",
                    "text": "/opt/conda/envs/Python-3.8-main/lib/python3.8/site-packages/pandas/core/series.py:4509: SettingWithCopyWarning: \nA value is trying to be set on a copy of a slice from a DataFrame\n\nSee the caveats in the documentation: https://pandas.pydata.org/pandas-docs/stable/user_guide/indexing.html#returning-a-view-versus-a-copy\n  return super().replace(\n"
                },
                {
                    "data": {
                        "text/plain": "FlightNumber       0\nDate               0\nBoosterVersion     0\nPayloadMass        0\nOrbit              0\nLaunchSite         0\nOutcome            0\nFlights            0\nGridFins           0\nReused             0\nLegs               0\nLandingPad        26\nBlock              0\nReusedCount        0\nSerial             0\nLongitude          0\nLatitude           0\ndtype: int64"
                    },
                    "execution_count": 50,
                    "metadata": {},
                    "output_type": "execute_result"
                }
            ],
            "source": "# Calculate the mean value of PayloadMass column\npayload_mean = data_falcon9['PayloadMass'].mean()\nprint(payload_mean)\n\n# Replace the np.nan values with its mean value\ndata_falcon9['PayloadMass'].replace(np.nan, payload_mean, inplace=True)\ndata_falcon9.isnull().sum()"
        },
        {
            "cell_type": "markdown",
            "metadata": {},
            "source": "You should see the number of missing values of the <code>PayLoadMass</code> change to zero.\n"
        },
        {
            "cell_type": "markdown",
            "metadata": {},
            "source": "Now we should have no missing values in our dataset except for in <code>LandingPad</code>.\n"
        },
        {
            "cell_type": "markdown",
            "metadata": {},
            "source": "We can now export it to a <b>CSV</b> for the next section,but to make the answers consistent, in the next lab we will provide data in a pre-selected date range.\n"
        },
        {
            "cell_type": "code",
            "execution_count": 52,
            "metadata": {},
            "outputs": [],
            "source": "data_falcon9.to_csv('dataset_part\\_1.csv', index=False)\n"
        },
        {
            "cell_type": "markdown",
            "metadata": {},
            "source": "## Authors\n"
        },
        {
            "cell_type": "markdown",
            "metadata": {},
            "source": "<a href=\"https://www.linkedin.com/in/joseph-s-50398b136/?utm_medium=Exinfluencer&utm_source=Exinfluencer&utm_content=000026UJ&utm_term=10006555&utm_id=NA-SkillsNetwork-Channel-SkillsNetworkCoursesIBMDS0321ENSkillsNetwork26802033-2021-01-01\">Joseph Santarcangelo</a> has a PhD in Electrical Engineering, his research focused on using machine learning, signal processing, and computer vision to determine how videos impact human cognition. Joseph has been working for IBM since he completed his PhD.\n"
        },
        {
            "cell_type": "markdown",
            "metadata": {},
            "source": "## Change Log\n"
        },
        {
            "cell_type": "markdown",
            "metadata": {},
            "source": "| Date (YYYY-MM-DD) | Version | Changed By | Change Description                  |\n| ----------------- | ------- | ---------- | ----------------------------------- |\n| 2020-09-20        | 1.1     | Joseph     | get result each time you run        |\n| 2020-09-20        | 1.1     | Azim       | Created Part 1 Lab using SpaceX API |\n| 2020-09-20        | 1.0     | Joseph     | Modified Multiple Areas             |\n"
        },
        {
            "cell_type": "markdown",
            "metadata": {},
            "source": "Copyright \u00a9 2021 IBM Corporation. All rights reserved.\n"
        }
    ],
    "metadata": {
        "kernelspec": {
            "display_name": "Python 3.8",
            "language": "python",
            "name": "python3"
        },
        "language_info": {
            "codemirror_mode": {
                "name": "ipython",
                "version": 3
            },
            "file_extension": ".py",
            "mimetype": "text/x-python",
            "name": "python",
            "nbconvert_exporter": "python",
            "pygments_lexer": "ipython3",
            "version": "3.8.12"
        }
    },
    "nbformat": 4,
    "nbformat_minor": 4
}